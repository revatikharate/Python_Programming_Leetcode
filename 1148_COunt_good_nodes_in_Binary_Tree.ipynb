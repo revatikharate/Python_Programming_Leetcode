{
  "nbformat": 4,
  "nbformat_minor": 0,
  "metadata": {
    "colab": {
      "provenance": [],
      "authorship_tag": "ABX9TyO9YuJiggxtzuuiESLaqekl",
      "include_colab_link": true
    },
    "kernelspec": {
      "name": "python3",
      "display_name": "Python 3"
    },
    "language_info": {
      "name": "python"
    }
  },
  "cells": [
    {
      "cell_type": "markdown",
      "metadata": {
        "id": "view-in-github",
        "colab_type": "text"
      },
      "source": [
        "<a href=\"https://colab.research.google.com/github/revatikharate/Python_Programming_Leetcode/blob/main/1148_COunt_good_nodes_in_Binary_Tree.ipynb\" target=\"_parent\"><img src=\"https://colab.research.google.com/assets/colab-badge.svg\" alt=\"Open In Colab\"/></a>"
      ]
    },
    {
      "cell_type": "code",
      "execution_count": null,
      "metadata": {
        "id": "wLraqeeGEP8Z"
      },
      "outputs": [],
      "source": [
        "# Definition for a binary tree node.\n",
        "# class TreeNode:\n",
        "#     def __init__(self, val=0, left=None, right=None):\n",
        "#         self.val = val\n",
        "#         self.left = left\n",
        "#         self.right = right\n",
        "class Solution:\n",
        "    def goodNodes(self, root: TreeNode) -> int:\n",
        "        self.good = 0\n",
        "\n",
        "        #recursive function\n",
        "        def dfs(root, check):\n",
        "            if root.val >= check:\n",
        "                self.good+=1\n",
        "            if root.left:\n",
        "                dfs(root.left, max(check, root.val))\n",
        "            if root.right:\n",
        "                dfs(root.right, max(check, root.val))\n",
        "\n",
        "        dfs(root, root.val)\n",
        "        return self.good\n",
        ""
      ]
    },
    {
      "cell_type": "markdown",
      "source": [
        "Given a binary tree root, a node X in the tree is named good if in the path from root to X there are no nodes with a value greater than X.\n",
        "\n",
        "Return the number of good nodes in the binary tree.\n",
        "\n",
        "\n",
        "\n",
        "Example 1:\n",
        "\n",
        "\n",
        "\n",
        "Input: root = [3,1,4,3,null,1,5]\n",
        "Output: 4\n",
        "Explanation: Nodes in blue are good.\n",
        "Root Node (3) is always a good node.\n",
        "Node 4 -> (3,4) is the maximum value in the path starting from the root.\n",
        "Node 5 -> (3,4,5) is the maximum value in the path\n",
        "Node 3 -> (3,1,3) is the maximum value in the path.\n",
        "Example 2:\n",
        "\n",
        "\n",
        "\n",
        "Input: root = [3,3,null,4,2]\n",
        "Output: 3\n",
        "Explanation: Node 2 -> (3, 3, 2) is not good, because \"3\" is higher than it.\n",
        "Example 3:\n",
        "\n",
        "Input: root = [1]\n",
        "Output: 1\n",
        "Explanation: Root is considered as good.\n",
        "\n",
        "\n",
        "Constraints:\n",
        "\n",
        "The number of nodes in the binary tree is in the range [1, 10^5].\n",
        "Each node's value is between [-10^4, 10^4]."
      ],
      "metadata": {
        "id": "qUb9qD7lEVk4"
      }
    }
  ]
}