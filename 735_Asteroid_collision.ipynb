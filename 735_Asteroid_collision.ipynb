{
  "nbformat": 4,
  "nbformat_minor": 0,
  "metadata": {
    "colab": {
      "provenance": [],
      "authorship_tag": "ABX9TyMiIYuW13J9twKOGXDblef3",
      "include_colab_link": true
    },
    "kernelspec": {
      "name": "python3",
      "display_name": "Python 3"
    },
    "language_info": {
      "name": "python"
    }
  },
  "cells": [
    {
      "cell_type": "markdown",
      "metadata": {
        "id": "view-in-github",
        "colab_type": "text"
      },
      "source": [
        "<a href=\"https://colab.research.google.com/github/revatikharate/Python_Programming_Leetcode/blob/main/735_Asteroid_collision.ipynb\" target=\"_parent\"><img src=\"https://colab.research.google.com/assets/colab-badge.svg\" alt=\"Open In Colab\"/></a>"
      ]
    },
    {
      "cell_type": "code",
      "execution_count": null,
      "metadata": {
        "id": "G8YsqrlwTMl1"
      },
      "outputs": [],
      "source": [
        "class Solution:\n",
        "    def asteroidCollision(self, asteroids: List[int]) -> List[int]:\n",
        "        stack = []\n",
        "        for ast in asteroids:\n",
        "            while stack and stack[-1] > 0 and ast <0:\n",
        "                last = stack.pop()\n",
        "                if last > -ast:\n",
        "                    stack.append(last)\n",
        "                    break\n",
        "                if last == -ast:\n",
        "                    break\n",
        "            else:\n",
        "                stack.append(ast)\n",
        "        return stack\n",
        "\n",
        ""
      ]
    },
    {
      "cell_type": "markdown",
      "source": [
        "We are given an array asteroids of integers representing asteroids in a row. The indices of the asteriod in the array represent their relative position in space.\n",
        "\n",
        "For each asteroid, the absolute value represents its size, and the sign represents its direction (positive meaning right, negative meaning left). Each asteroid moves at the same speed.\n",
        "\n",
        "Find out the state of the asteroids after all collisions. If two asteroids meet, the smaller one will explode. If both are the same size, both will explode. Two asteroids moving in the same direction will never meet.\n",
        "\n",
        "\n",
        "\n",
        "Example 1:\n",
        "\n",
        "Input: asteroids = [5,10,-5]\n",
        "Output: [5,10]\n",
        "Explanation: The 10 and -5 collide resulting in 10. The 5 and 10 never collide.\n",
        "Example 2:\n",
        "\n",
        "Input: asteroids = [8,-8]\n",
        "Output: []\n",
        "Explanation: The 8 and -8 collide exploding each other.\n",
        "Example 3:\n",
        "\n",
        "Input: asteroids = [10,2,-5]\n",
        "Output: [10]\n",
        "Explanation: The 2 and -5 collide resulting in -5. The 10 and -5 collide resulting in 10.\n",
        ""
      ],
      "metadata": {
        "id": "JPdu13C6TQp3"
      }
    }
  ]
}