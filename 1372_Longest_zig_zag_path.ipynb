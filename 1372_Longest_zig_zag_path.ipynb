{
  "nbformat": 4,
  "nbformat_minor": 0,
  "metadata": {
    "colab": {
      "provenance": [],
      "authorship_tag": "ABX9TyMnpjj/gkLpaEzBpQn0d8uJ",
      "include_colab_link": true
    },
    "kernelspec": {
      "name": "python3",
      "display_name": "Python 3"
    },
    "language_info": {
      "name": "python"
    }
  },
  "cells": [
    {
      "cell_type": "markdown",
      "metadata": {
        "id": "view-in-github",
        "colab_type": "text"
      },
      "source": [
        "<a href=\"https://colab.research.google.com/github/revatikharate/Python_Programming_Leetcode/blob/main/1372_Longest_zig_zag_path.ipynb\" target=\"_parent\"><img src=\"https://colab.research.google.com/assets/colab-badge.svg\" alt=\"Open In Colab\"/></a>"
      ]
    },
    {
      "cell_type": "code",
      "execution_count": null,
      "metadata": {
        "id": "5g9VcVskm-4R"
      },
      "outputs": [],
      "source": [
        "# Definition for a binary tree node.\n",
        "# class TreeNode:\n",
        "#     def __init__(self, val=0, left=None, right=None):\n",
        "#         self.val = val\n",
        "#         self.left = left\n",
        "#         self.right = right\n",
        "class Solution:\n",
        "    def longestZigZag(self, root: Optional[TreeNode]) -> int:\n",
        "        self.path = 0\n",
        "        def dfs(r, left, curr):\n",
        "            if r is None:\n",
        "                return\n",
        "            self.path = max(curr, self.path)\n",
        "            if left:\n",
        "                dfs(r.right, False, curr+1)\n",
        "                dfs(r.left, True, 1 )\n",
        "            else :\n",
        "                dfs(r.right, False, 1)\n",
        "                dfs(r.left, True, curr+1)\n",
        "\n",
        "        dfs(root.right, False, 1 )\n",
        "        dfs(root.left, True, 1)\n",
        "        return self.path\n",
        "\n",
        ""
      ]
    },
    {
      "cell_type": "markdown",
      "source": [
        "You are given the root of a binary tree.\n",
        "\n",
        "A ZigZag path for a binary tree is defined as follow:\n",
        "\n",
        "Choose any node in the binary tree and a direction (right or left).\n",
        "If the current direction is right, move to the right child of the current node; otherwise, move to the left child.\n",
        "Change the direction from right to left or from left to right.\n",
        "Repeat the second and third steps until you can't move in the tree.\n",
        "Zigzag length is defined as the number of nodes visited - 1. (A single node has a length of 0).\n",
        "\n",
        "Return the longest ZigZag path contained in that tree.\n",
        "\n",
        " Input: root = [1,null,1,1,1,null,null,1,1,null,1,null,null,null,1]\n",
        "Output: 3\n",
        "Explanation: Longest ZigZag path in blue nodes (right -> left -> right).\n",
        "\n",
        "Input: root = [1,1,1,null,1,null,null,1,1,null,1]\n",
        "Output: 4\n",
        "Explanation: Longest ZigZag path in blue nodes (left -> right -> left -> right).\n",
        "Example 3:\n",
        "\n",
        "Input: root = [1]\n",
        "Output: 0\n",
        "\n"
      ],
      "metadata": {
        "id": "pWyrn6sPnEHN"
      }
    }
  ]
}