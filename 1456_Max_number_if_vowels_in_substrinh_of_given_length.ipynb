{
  "nbformat": 4,
  "nbformat_minor": 0,
  "metadata": {
    "colab": {
      "provenance": [],
      "authorship_tag": "ABX9TyNTJM8F1Q+sIbAo37z8hQCn",
      "include_colab_link": true
    },
    "kernelspec": {
      "name": "python3",
      "display_name": "Python 3"
    },
    "language_info": {
      "name": "python"
    }
  },
  "cells": [
    {
      "cell_type": "markdown",
      "metadata": {
        "id": "view-in-github",
        "colab_type": "text"
      },
      "source": [
        "<a href=\"https://colab.research.google.com/github/revatikharate/Python_Programming_Leetcode/blob/main/1456_Max_number_if_vowels_in_substrinh_of_given_length.ipynb\" target=\"_parent\"><img src=\"https://colab.research.google.com/assets/colab-badge.svg\" alt=\"Open In Colab\"/></a>"
      ]
    },
    {
      "cell_type": "code",
      "execution_count": null,
      "metadata": {
        "id": "ukIhHLjshPpa"
      },
      "outputs": [],
      "source": [
        "class Solution:\n",
        "    def maxVowels(self, s: str, k: int) -> int:\n",
        "        vowel = {'a', 'e', 'i', 'o', 'u'} #create a vowel set\n",
        "        curr = 0 # curr substrng has 0 vowels\n",
        "        for i in range(k):\n",
        "            if s[i] in vowel:\n",
        "                curr +=1\n",
        "\n",
        "                #add the next element and minus the old element\n",
        "                #loop from index 'k', then minus 'k-i'\n",
        "        max_vowel = curr\n",
        "        for i in range(k, len(s)):\n",
        "            if s[i] in vowel:\n",
        "                curr +=1\n",
        "            if s[i-k] in vowel:\n",
        "                curr -=1\n",
        "            max_vowel = max(max_vowel, curr)\n",
        "        return max_vowel\n"
      ]
    },
    {
      "cell_type": "markdown",
      "source": [
        "Given a string s and an integer k, return the maximum number of vowel letters in any substring of s with length k.\n",
        "\n",
        "Vowel letters in English are 'a', 'e', 'i', 'o', and 'u'.\n",
        "\n",
        "\n",
        "\n",
        "Example 1:\n",
        "\n",
        "Input: s = \"abciiidef\", k = 3\n",
        "Output: 3\n",
        "Explanation: The substring \"iii\" contains 3 vowel letters.\n",
        "Example 2:\n",
        "\n",
        "Input: s = \"aeiou\", k = 2\n",
        "Output: 2\n",
        "Explanation: Any substring of length 2 contains 2 vowels.\n",
        "Example 3:\n",
        "\n",
        "Input: s = \"leetcode\", k = 3\n",
        "Output: 2\n",
        "Explanation: \"lee\", \"eet\" and \"ode\" contain 2 vowels.\n",
        ""
      ],
      "metadata": {
        "id": "3Wu9V5I5hTdI"
      }
    }
  ]
}