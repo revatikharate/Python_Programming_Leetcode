{
  "nbformat": 4,
  "nbformat_minor": 0,
  "metadata": {
    "colab": {
      "provenance": [],
      "authorship_tag": "ABX9TyOOan0E7ukcm5qW9viNJlfW",
      "include_colab_link": true
    },
    "kernelspec": {
      "name": "python3",
      "display_name": "Python 3"
    },
    "language_info": {
      "name": "python"
    }
  },
  "cells": [
    {
      "cell_type": "markdown",
      "metadata": {
        "id": "view-in-github",
        "colab_type": "text"
      },
      "source": [
        "<a href=\"https://colab.research.google.com/github/revatikharate/Python_Programming_Leetcode/blob/main/1768_Merge_Strings_Alternatively.ipynb\" target=\"_parent\"><img src=\"https://colab.research.google.com/assets/colab-badge.svg\" alt=\"Open In Colab\"/></a>"
      ]
    },
    {
      "cell_type": "code",
      "execution_count": null,
      "metadata": {
        "id": "aUxCB4cGVJHl"
      },
      "outputs": [],
      "source": [
        "class Solution:\n",
        "    def mergeAlternately(self, word1: str, word2: str) -> str:\n",
        "        merged = \"\"\n",
        "        i, j = 0, 0\n",
        "        while i < len(word1) or j < len(word2):\n",
        "            if i < len(word1):\n",
        "                merged += word1[i]\n",
        "                i += 1\n",
        "            if j < len(word2):\n",
        "                merged += word2[j]\n",
        "                j += 1\n",
        "        return merged"
      ]
    },
    {
      "cell_type": "code",
      "source": [],
      "metadata": {
        "id": "BwBCK2BNVXnQ"
      },
      "execution_count": null,
      "outputs": []
    },
    {
      "cell_type": "markdown",
      "source": [
        "You are given two strings word1 and word2. Merge the strings by adding letters in alternating order, starting with word1. If a string is longer than the other, append the additional letters onto the end of the merged string.\n",
        "\n",
        "Return the merged string.\n",
        "\n",
        "\n",
        "\n",
        "Example 1:\n",
        "\n",
        "Input: word1 = \"abc\", word2 = \"pqr\"\n",
        "Output: \"apbqcr\"\n",
        "Explanation: The merged string will be merged as so:\n",
        "word1:  a   b   c\n",
        "word2:    p   q   r\n",
        "merged: a p b q c r\n",
        "Example 2:\n",
        "\n",
        "Input: word1 = \"ab\", word2 = \"pqrs\"\n",
        "Output: \"apbqrs\"\n",
        "Explanation: Notice that as word2 is longer, \"rs\" is appended to the end.\n",
        "word1:  a   b\n",
        "word2:    p   q   r   s\n",
        "merged: a p b q   r   s\n",
        "Example 3:\n",
        "\n",
        "Input: word1 = \"abcd\", word2 = \"pq\"\n",
        "Output: \"apbqcd\"\n",
        "Explanation: Notice that as word1 is longer, \"cd\" is appended to the end.\n",
        "word1:  a   b   c   d\n",
        "word2:    p   q\n",
        "merged: a p b q c   d\n",
        "\n",
        "\n",
        "Constraints:\n",
        "\n",
        "1 <= word1.length, word2.length <= 100\n",
        "word1 and word2 consist of lowercase English letters."
      ],
      "metadata": {
        "id": "qaNJi_auVJ_X"
      }
    }
  ]
}