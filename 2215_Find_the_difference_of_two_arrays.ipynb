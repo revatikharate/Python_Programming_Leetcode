{
  "nbformat": 4,
  "nbformat_minor": 0,
  "metadata": {
    "colab": {
      "provenance": [],
      "authorship_tag": "ABX9TyMqVx12pS8sTaI3fEa2w9Px",
      "include_colab_link": true
    },
    "kernelspec": {
      "name": "python3",
      "display_name": "Python 3"
    },
    "language_info": {
      "name": "python"
    }
  },
  "cells": [
    {
      "cell_type": "markdown",
      "metadata": {
        "id": "view-in-github",
        "colab_type": "text"
      },
      "source": [
        "<a href=\"https://colab.research.google.com/github/revatikharate/Python_Programming_Leetcode/blob/main/2215_Find_the_difference_of_two_arrays.ipynb\" target=\"_parent\"><img src=\"https://colab.research.google.com/assets/colab-badge.svg\" alt=\"Open In Colab\"/></a>"
      ]
    },
    {
      "cell_type": "code",
      "execution_count": null,
      "metadata": {
        "id": "g1ijDP1FY7UU"
      },
      "outputs": [],
      "source": [
        "class Solution:\n",
        "    def findDifference(self, nums1: List[int], nums2: List[int]) -> List[List[int]]:\n",
        "        nums1 = set(nums1)\n",
        "        nums2 = set(nums2)\n",
        "        ans = []\n",
        "        ans1 = [] #first element of answer\n",
        "\n",
        "        for num in nums1:\n",
        "            if num not in nums2:\n",
        "                ans1.append(num)\n",
        "            else:\n",
        "                nums2.remove(num)\n",
        "\n",
        "        return [ans1, list(nums2)]"
      ]
    },
    {
      "cell_type": "markdown",
      "source": [
        "Given two 0-indexed integer arrays nums1 and nums2, return a list answer of size 2 where:\n",
        "\n",
        "answer[0] is a list of all distinct integers in nums1 which are not present in nums2.\n",
        "answer[1] is a list of all distinct integers in nums2 which are not present in nums1.\n",
        "Note that the integers in the lists may be returned in any order.\n",
        "\n",
        "\n",
        "\n",
        "Example 1:\n",
        "\n",
        "Input: nums1 = [1,2,3], nums2 = [2,4,6]\n",
        "Output: [[1,3],[4,6]]\n",
        "Explanation:\n",
        "For nums1, nums1[1] = 2 is present at index 0 of nums2, whereas nums1[0] = 1 and nums1[2] = 3 are not present in nums2. Therefore, answer[0] = [1,3].\n",
        "For nums2, nums2[0] = 2 is present at index 1 of nums1, whereas nums2[1] = 4 and nums2[2] = 6 are not present in nums1. Therefore, answer[1] = [4,6].\n",
        "Example 2:\n",
        "\n",
        "Input: nums1 = [1,2,3,3], nums2 = [1,1,2,2]\n",
        "Output: [[3],[]]\n",
        "Explanation:\n",
        "For nums1, nums1[2] and nums1[3] are not present in nums2. Since nums1[2] == nums1[3], their value is only included once and answer[0] = [3].\n",
        "Every integer in nums2 is present in nums1. Therefore, answer[1] = []."
      ],
      "metadata": {
        "id": "DAJoVODvZCcr"
      }
    }
  ]
}