{
  "nbformat": 4,
  "nbformat_minor": 0,
  "metadata": {
    "colab": {
      "provenance": [],
      "authorship_tag": "ABX9TyO2fA+ioW9cDeinfChSPMLF",
      "include_colab_link": true
    },
    "kernelspec": {
      "name": "python3",
      "display_name": "Python 3"
    },
    "language_info": {
      "name": "python"
    }
  },
  "cells": [
    {
      "cell_type": "markdown",
      "metadata": {
        "id": "view-in-github",
        "colab_type": "text"
      },
      "source": [
        "<a href=\"https://colab.research.google.com/github/revatikharate/Python_Programming_Leetcode/blob/main/399_evaluate_division.ipynb\" target=\"_parent\"><img src=\"https://colab.research.google.com/assets/colab-badge.svg\" alt=\"Open In Colab\"/></a>"
      ]
    },
    {
      "cell_type": "code",
      "execution_count": null,
      "metadata": {
        "id": "maZuikucz_hn"
      },
      "outputs": [],
      "source": [
        "from collections import defaultdict\n",
        "class Solution:\n",
        "    def calcEquation(self, equations: List[List[str]], values: List[float], queries: List[List[str]]) -> List[float]:\n",
        "#dfs\n",
        "        graph = defaultdict(dict)\n",
        "        for (x, y), v in zip(equations, values):\n",
        "            graph[x][y] = v\n",
        "            graph[y][x] = 1 / v\n",
        "\n",
        "        def dfs(start, end, visited):\n",
        "            if start not in graph or end not in graph:\n",
        "                return -1.0\n",
        "            if start == end:\n",
        "                return 1.0\n",
        "            visited.add(start)\n",
        "            for neighbor, value in graph[start].items():\n",
        "                if neighbor not in visited:\n",
        "                    result = dfs(neighbor, end, visited)\n",
        "                    if result != -1.0:\n",
        "                        return value * result\n",
        "            return -1.0\n",
        "\n",
        "        results = []\n",
        "        for x, y in queries:\n",
        "            results.append(dfs(x, y, set()))\n",
        "        return results\n",
        "\n",
        "#bfs\n",
        "class Solution:\n",
        "    def calcEquation(self, equations: List[List[str]], values: List[float], queries: List[List[str]]) -> List[float]:\n",
        "        def bfs(source, destination):\n",
        "            if source not in graph:\n",
        "                return -1.0\n",
        "            q = collections.deque([(source, 1)])\n",
        "            visited = set()\n",
        "            while q:\n",
        "                u, c = q.popleft()\n",
        "                if u == destination:\n",
        "                    return c\n",
        "                visited.add(u)\n",
        "\n",
        "                for nei, nc in graph[u]:\n",
        "                    if nei not in visited:\n",
        "                        q.append((nei, nc*c))\n",
        "            return -1.0\n",
        "\n",
        "        graph = collections.defaultdict(list)\n",
        "        for i, (a,b) in enumerate(equations):\n",
        "            graph[a].append((b, values[i]))\n",
        "            graph[b].append((a, 1/values[i]))\n",
        "\n",
        "        res = []\n",
        "        for a, b in queries:\n",
        "            res.append(bfs(a,b))\n",
        "        return res\n"
      ]
    },
    {
      "cell_type": "markdown",
      "source": [
        "You are given an array of variable pairs equations and an array of real numbers values, where equations[i] = [Ai, Bi] and values[i] represent the equation Ai / Bi = values[i]. Each Ai or Bi is a string that represents a single variable.\n",
        "\n",
        "You are also given some queries, where queries[j] = [Cj, Dj] represents the jth query where you must find the answer for Cj / Dj = ?.\n",
        "\n",
        "Return the answers to all queries. If a single answer cannot be determined, return -1.0.\n",
        "\n",
        "Note: The input is always valid. You may assume that evaluating the queries will not result in division by zero and that there is no contradiction.\n",
        "\n",
        "Note: The variables that do not occur in the list of equations are undefined, so the answer cannot be determined for them.\n",
        "\n",
        "\n",
        "\n",
        "Example 1:\n",
        "\n",
        "Input: equations = [[\"a\",\"b\"],[\"b\",\"c\"]], values = [2.0,3.0], queries = [[\"a\",\"c\"],[\"b\",\"a\"],[\"a\",\"e\"],[\"a\",\"a\"],[\"x\",\"x\"]]\n",
        "Output: [6.00000,0.50000,-1.00000,1.00000,-1.00000]\n",
        "Explanation:\n",
        "Given: a / b = 2.0, b / c = 3.0\n",
        "queries are: a / c = ?, b / a = ?, a / e = ?, a / a = ?, x / x = ?\n",
        "return: [6.0, 0.5, -1.0, 1.0, -1.0 ]\n",
        "note: x is undefined => -1.0\n",
        "Example 2:\n",
        "\n",
        "Input: equations = [[\"a\",\"b\"],[\"b\",\"c\"],[\"bc\",\"cd\"]], values = [1.5,2.5,5.0], queries = [[\"a\",\"c\"],[\"c\",\"b\"],[\"bc\",\"cd\"],[\"cd\",\"bc\"]]\n",
        "Output: [3.75000,0.40000,5.00000,0.20000]\n"
      ],
      "metadata": {
        "id": "2S5R2THn0I3l"
      }
    }
  ]
}