{
  "nbformat": 4,
  "nbformat_minor": 0,
  "metadata": {
    "colab": {
      "provenance": [],
      "authorship_tag": "ABX9TyN8trGRgq9VTQpKAgmkk1bi",
      "include_colab_link": true
    },
    "kernelspec": {
      "name": "python3",
      "display_name": "Python 3"
    },
    "language_info": {
      "name": "python"
    }
  },
  "cells": [
    {
      "cell_type": "markdown",
      "metadata": {
        "id": "view-in-github",
        "colab_type": "text"
      },
      "source": [
        "<a href=\"https://colab.research.google.com/github/revatikharate/Python_Programming_Leetcode/blob/main/437_Path_Sum_III.ipynb\" target=\"_parent\"><img src=\"https://colab.research.google.com/assets/colab-badge.svg\" alt=\"Open In Colab\"/></a>"
      ]
    },
    {
      "cell_type": "code",
      "execution_count": null,
      "metadata": {
        "id": "n8LZzxNzollM"
      },
      "outputs": [],
      "source": [
        "class Solution:\n",
        "    def pathSum(self, root: Optional[TreeNode], targetSum: int) -> int:\n",
        "        def dfs(root, ps):\n",
        "            if root is None:\n",
        "                return 0\n",
        "\n",
        "            cs = ps + root.val\n",
        "\n",
        "            x = cs - targetSum\n",
        "\n",
        "            if x in freq:\n",
        "                self.count +=freq[x]\n",
        "\n",
        "            if cs in freq:\n",
        "                freq[cs] +=1\n",
        "            else:\n",
        "                freq[cs] = 1\n",
        "\n",
        "            dfs(root.left, cs)\n",
        "            dfs(root.right, cs)\n",
        "            freq[cs] -=1\n",
        "\n",
        "        self.count = 0\n",
        "        freq={0:1}\n",
        "        dfs(root, 0)\n",
        "\n",
        "        return self.count"
      ]
    },
    {
      "cell_type": "markdown",
      "source": [
        "Given the root of a binary tree and an integer targetSum, return the number of paths where the sum of the values along the path equals targetSum.\n",
        "\n",
        "The path does not need to start or end at the root or a leaf, but it must go downwards (i.e., traveling only from parent nodes to child nodes).\n",
        "\n",
        "\n",
        "\n",
        "Example 1:\n",
        "\n",
        "\n",
        "Input: root = [10,5,-3,3,2,null,11,3,-2,null,1], targetSum = 8\n",
        "Output: 3\n",
        "Explanation: The paths that sum to 8 are shown.\n",
        "Example 2:\n",
        "\n",
        "Input: root = [5,4,8,11,null,13,4,7,2,null,null,5,1], targetSum = 22\n",
        "Output: 3"
      ],
      "metadata": {
        "id": "DxrZHTFeonNu"
      }
    }
  ]
}