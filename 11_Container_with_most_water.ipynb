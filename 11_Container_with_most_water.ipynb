{
  "nbformat": 4,
  "nbformat_minor": 0,
  "metadata": {
    "colab": {
      "provenance": [],
      "authorship_tag": "ABX9TyOTDVGHbhsJRGmzD1RF79Dz",
      "include_colab_link": true
    },
    "kernelspec": {
      "name": "python3",
      "display_name": "Python 3"
    },
    "language_info": {
      "name": "python"
    }
  },
  "cells": [
    {
      "cell_type": "markdown",
      "metadata": {
        "id": "view-in-github",
        "colab_type": "text"
      },
      "source": [
        "<a href=\"https://colab.research.google.com/github/revatikharate/Python_Programming_Leetcode/blob/main/11_Container_with_most_water.ipynb\" target=\"_parent\"><img src=\"https://colab.research.google.com/assets/colab-badge.svg\" alt=\"Open In Colab\"/></a>"
      ]
    },
    {
      "cell_type": "code",
      "execution_count": null,
      "metadata": {
        "id": "shTklDyXLlvM"
      },
      "outputs": [],
      "source": [
        "class Solution:\n",
        "    def maxArea(self, height: List[int]) -> int:\n",
        "        l, r = 0, len(height)-1\n",
        "        res = 0\n",
        "        while l < r:\n",
        "            area = (r-l) * min(height[l], height[r])\n",
        "            res = max(res, area)\n",
        "\n",
        "            if height[l] <height[r]:\n",
        "                l+=1\n",
        "            else:\n",
        "                r-=1\n",
        "\n",
        "        return res"
      ]
    },
    {
      "cell_type": "markdown",
      "source": [
        "You are given an integer array height of length n. There are n vertical lines drawn such that the two endpoints of the ith line are (i, 0) and (i, height[i]).\n",
        "\n",
        "Find two lines that together with the x-axis form a container, such that the container contains the most water.\n",
        "\n",
        "Return the maximum amount of water a container can store.\n",
        "\n",
        "Notice that you may not slant the container.\n",
        "\n",
        "Input: height = [1,8,6,2,5,4,8,3,7]\n",
        "Output: 49\n",
        "Explanation: The above vertical lines are represented by array [1,8,6,2,5,4,8,3,7]. In this case, the max area of water (blue section) the container can contain is 49.\n",
        "Example 2:\n",
        "\n",
        "Input: height = [1,1]\n",
        "Output: 1\n",
        "\n",
        "\n"
      ],
      "metadata": {
        "id": "VD6ggjo6Lszm"
      }
    }
  ]
}