{
  "nbformat": 4,
  "nbformat_minor": 0,
  "metadata": {
    "colab": {
      "provenance": [],
      "authorship_tag": "ABX9TyNP1PnVvB725GikJ8FK9Qko",
      "include_colab_link": true
    },
    "kernelspec": {
      "name": "python3",
      "display_name": "Python 3"
    },
    "language_info": {
      "name": "python"
    }
  },
  "cells": [
    {
      "cell_type": "markdown",
      "metadata": {
        "id": "view-in-github",
        "colab_type": "text"
      },
      "source": [
        "<a href=\"https://colab.research.google.com/github/revatikharate/Python_Programming_Leetcode/blob/main/700_Search_in_Binary_Tree.ipynb\" target=\"_parent\"><img src=\"https://colab.research.google.com/assets/colab-badge.svg\" alt=\"Open In Colab\"/></a>"
      ]
    },
    {
      "cell_type": "code",
      "execution_count": null,
      "metadata": {
        "id": "sL8NuV3hecEe"
      },
      "outputs": [],
      "source": [
        "class Solution:\n",
        "    def searchBST(self, root: Optional[TreeNode], val: int) -> Optional[TreeNode]:\n",
        "        if not root:\n",
        "            return\n",
        "        if root.val == val:\n",
        "            return root\n",
        "        if val < root.val:\n",
        "            return self.searchBST(root.left, val)\n",
        "        else:\n",
        "            return self.searchBST(root.right, val)"
      ]
    },
    {
      "cell_type": "markdown",
      "source": [
        "You are given the root of a binary search tree (BST) and an integer val.\n",
        "\n",
        "Find the node in the BST that the node's value equals val and return the subtree rooted with that node. If such a node does not exist, return null.\n",
        "\n",
        "\n",
        "\n",
        "Example 1:\n",
        "\n",
        "\n",
        "Input: root = [4,2,7,1,3], val = 2\n",
        "Output: [2,1,3]\n",
        "Example 2:\n",
        "\n",
        "\n",
        "Input: root = [4,2,7,1,3], val = 5\n",
        "Output: []"
      ],
      "metadata": {
        "id": "z-RvUjECgyil"
      }
    }
  ]
}