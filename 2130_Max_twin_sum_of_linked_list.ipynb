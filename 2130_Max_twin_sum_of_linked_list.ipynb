{
  "nbformat": 4,
  "nbformat_minor": 0,
  "metadata": {
    "colab": {
      "provenance": [],
      "authorship_tag": "ABX9TyODeoB/g0T0eK7xBZf0qAuo",
      "include_colab_link": true
    },
    "kernelspec": {
      "name": "python3",
      "display_name": "Python 3"
    },
    "language_info": {
      "name": "python"
    }
  },
  "cells": [
    {
      "cell_type": "markdown",
      "metadata": {
        "id": "view-in-github",
        "colab_type": "text"
      },
      "source": [
        "<a href=\"https://colab.research.google.com/github/revatikharate/Python_Programming_Leetcode/blob/main/2130_Max_twin_sum_of_linked_list.ipynb\" target=\"_parent\"><img src=\"https://colab.research.google.com/assets/colab-badge.svg\" alt=\"Open In Colab\"/></a>"
      ]
    },
    {
      "cell_type": "code",
      "execution_count": null,
      "metadata": {
        "id": "9ynHAvAbpztT"
      },
      "outputs": [],
      "source": [
        "# Definition for singly-linked list.\n",
        "# class ListNode:\n",
        "#     def __init__(self, val=0, next=None):\n",
        "#         self.val = val\n",
        "#         self.next = next\n",
        "class Solution:\n",
        "    def pairSum(self, head: Optional[ListNode]) -> int:\n",
        "        fast = slow = head\n",
        "        while fast and fast.next:\n",
        "            fast = fast.next.next\n",
        "            slow = slow.next\n",
        "        curr = slow\n",
        "        prev = None\n",
        "        while curr :\n",
        "            temp = curr.next\n",
        "            curr.next = prev\n",
        "            prev = curr\n",
        "            curr = temp\n",
        "        head2 = prev\n",
        "        max_sum = 0\n",
        "        while head2:\n",
        "            max_sum = max(max_sum, head.val+head2.val)\n",
        "            head = head.next\n",
        "            head2 = head2.next\n",
        "        return max_sum\n",
        "\n"
      ]
    },
    {
      "cell_type": "markdown",
      "source": [
        "In a linked list of size n, where n is even, the ith node (0-indexed) of the linked list is known as the twin of the (n-1-i)th node, if 0 <= i <= (n / 2) - 1.\n",
        "\n",
        "For example, if n = 4, then node 0 is the twin of node 3, and node 1 is the twin of node 2. These are the only nodes with twins for n = 4.\n",
        "The twin sum is defined as the sum of a node and its twin.\n",
        "\n",
        "Given the head of a linked list with even length, return the maximum twin sum of the linked list.\n",
        "\n",
        "\n",
        "\n",
        "Example 1:\n",
        "\n",
        "\n",
        "Input: head = [5,4,2,1]\n",
        "Output: 6\n",
        "Explanation:\n",
        "Nodes 0 and 1 are the twins of nodes 3 and 2, respectively. All have twin sum = 6.\n",
        "There are no other nodes with twins in the linked list.\n",
        "Thus, the maximum twin sum of the linked list is 6.\n",
        "Example 2:\n",
        "\n",
        "\n",
        "Input: head = [4,2,2,3]\n",
        "Output: 7\n",
        "Explanation:\n",
        "The nodes with twins present in this linked list are:\n",
        "- Node 0 is the twin of node 3 having a twin sum of 4 + 3 = 7.\n",
        "- Node 1 is the twin of node 2 having a twin sum of 2 + 2 = 4.\n",
        "Thus, the maximum twin sum of the linked list is max(7, 4) = 7."
      ],
      "metadata": {
        "id": "d9LCg5AyqgZF"
      }
    }
  ]
}