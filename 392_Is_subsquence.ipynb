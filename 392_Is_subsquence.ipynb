{
  "nbformat": 4,
  "nbformat_minor": 0,
  "metadata": {
    "colab": {
      "provenance": [],
      "authorship_tag": "ABX9TyOArDyXBXcxJyZUgOR8GGwH",
      "include_colab_link": true
    },
    "kernelspec": {
      "name": "python3",
      "display_name": "Python 3"
    },
    "language_info": {
      "name": "python"
    }
  },
  "cells": [
    {
      "cell_type": "markdown",
      "metadata": {
        "id": "view-in-github",
        "colab_type": "text"
      },
      "source": [
        "<a href=\"https://colab.research.google.com/github/revatikharate/Python_Programming_Leetcode/blob/main/392_Is_subsquence.ipynb\" target=\"_parent\"><img src=\"https://colab.research.google.com/assets/colab-badge.svg\" alt=\"Open In Colab\"/></a>"
      ]
    },
    {
      "cell_type": "code",
      "execution_count": null,
      "metadata": {
        "id": "37WHobjWE7t8"
      },
      "outputs": [],
      "source": [
        "class Solution:\n",
        "    def isSubsequence(self, s: str, t: str) -> bool:\n",
        "        \"\"\"\n",
        "        \"\"\"\n",
        "        ptr_s = ptr_t = 0\n",
        "        while ptr_s<len(s) and ptr_t<len(t):\n",
        "            if s[ptr_s]== t[ptr_t]:\n",
        "                ptr_s +=1\n",
        "            ptr_t +=1\n",
        "        return ptr_s >= len(s)\n"
      ]
    },
    {
      "cell_type": "markdown",
      "source": [],
      "metadata": {
        "id": "hnu91jJfE9Cw"
      }
    },
    {
      "cell_type": "markdown",
      "source": [
        "Given two strings s and t, return true if s is a subsequence of t, or false otherwise.\n",
        "\n",
        "A subsequence of a string is a new string that is formed from the original string by deleting some (can be none) of the characters without disturbing the relative positions of the remaining characters. (i.e., \"ace\" is a subsequence of \"abcde\" while \"aec\" is not).\n",
        "\n",
        "\n",
        "\n",
        "Example 1:\n",
        "\n",
        "Input: s = \"abc\", t = \"ahbgdc\"\n",
        "Output: true\n",
        "Example 2:\n",
        "\n",
        "Input: s = \"axc\", t = \"ahbgdc\"\n",
        "Output: false\n"
      ],
      "metadata": {
        "id": "Ttsv_N4jDX-j"
      }
    }
  ]
}