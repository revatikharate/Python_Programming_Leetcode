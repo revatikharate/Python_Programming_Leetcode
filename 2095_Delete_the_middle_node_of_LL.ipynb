{
  "nbformat": 4,
  "nbformat_minor": 0,
  "metadata": {
    "colab": {
      "provenance": [],
      "authorship_tag": "ABX9TyPrj1Xvk2yMEoojwtPLMdE1",
      "include_colab_link": true
    },
    "kernelspec": {
      "name": "python3",
      "display_name": "Python 3"
    },
    "language_info": {
      "name": "python"
    }
  },
  "cells": [
    {
      "cell_type": "markdown",
      "metadata": {
        "id": "view-in-github",
        "colab_type": "text"
      },
      "source": [
        "<a href=\"https://colab.research.google.com/github/revatikharate/Python_Programming_Leetcode/blob/main/2095_Delete_the_middle_node_of_LL.ipynb\" target=\"_parent\"><img src=\"https://colab.research.google.com/assets/colab-badge.svg\" alt=\"Open In Colab\"/></a>"
      ]
    },
    {
      "cell_type": "code",
      "execution_count": null,
      "metadata": {
        "id": "Xth241yhYS61"
      },
      "outputs": [],
      "source": [
        "# Definition for singly-linked list.\n",
        "# class ListNode:\n",
        "#     def __init__(self, val=0, next=None):\n",
        "#         self.val = val\n",
        "#         self.next = next\n",
        "class Solution:\n",
        "    def deleteMiddle(self, head: Optional[ListNode]) -> Optional[ListNode]:\n",
        "        if head.next is None:\n",
        "            return None\n",
        "\n",
        "        slow = fast = head\n",
        "        prev = None\n",
        "        while fast and fast.next:\n",
        "            prev = slow\n",
        "            fast = fast.next.next\n",
        "            slow = slow.next\n",
        "        prev.next = prev.next.next\n",
        "        return head"
      ]
    },
    {
      "cell_type": "markdown",
      "source": [
        "You are given the head of a linked list. Delete the middle node, and return the head of the modified linked list.\n",
        "\n",
        "The middle node of a linked list of size n is the ⌊n / 2⌋th node from the start using 0-based indexing, where ⌊x⌋ denotes the largest integer less than or equal to x.\n",
        "\n",
        "For n = 1, 2, 3, 4, and 5, the middle nodes are 0, 1, 1, 2, and 2, respectively.\n",
        "\n",
        "\n",
        "Example 1:\n",
        "\n",
        "\n",
        "Input: head = [1,3,4,7,1,2,6]\n",
        "Output: [1,3,4,1,2,6]\n",
        "Explanation:\n",
        "The above figure represents the given linked list. The indices of the nodes are written below.\n",
        "Since n = 7, node 3 with value 7 is the middle node, which is marked in red.\n",
        "We return the new list after removing this node.\n",
        "Example 2:\n",
        "\n",
        "\n",
        "Input: head = [1,2,3,4]\n",
        "Output: [1,2,4]\n",
        "Explanation:\n",
        "The above figure represents the given linked list.\n",
        "For n = 4, node 2 with value 3 is the middle node, which is marked in red."
      ],
      "metadata": {
        "id": "CCx9QMkBYW6A"
      }
    }
  ]
}