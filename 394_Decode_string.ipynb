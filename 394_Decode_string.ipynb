{
  "nbformat": 4,
  "nbformat_minor": 0,
  "metadata": {
    "colab": {
      "provenance": [],
      "authorship_tag": "ABX9TyNoue6BPZ80w55fuCPaGUv3",
      "include_colab_link": true
    },
    "kernelspec": {
      "name": "python3",
      "display_name": "Python 3"
    },
    "language_info": {
      "name": "python"
    }
  },
  "cells": [
    {
      "cell_type": "markdown",
      "metadata": {
        "id": "view-in-github",
        "colab_type": "text"
      },
      "source": [
        "<a href=\"https://colab.research.google.com/github/revatikharate/Python_Programming_Leetcode/blob/main/394_Decode_string.ipynb\" target=\"_parent\"><img src=\"https://colab.research.google.com/assets/colab-badge.svg\" alt=\"Open In Colab\"/></a>"
      ]
    },
    {
      "cell_type": "code",
      "execution_count": null,
      "metadata": {
        "id": "NpogjmoxYWyF"
      },
      "outputs": [],
      "source": [
        "class Solution:\n",
        "    def decodeString(self, s: str) -> str:\n",
        "\n",
        "        stack = []\n",
        "        for char in s:\n",
        "            if char != \"]\":\n",
        "                stack.append(char)\n",
        "            else:\n",
        "                curr = \"\"\n",
        "                while stack and stack[-1] != \"[\":\n",
        "                    curr = stack.pop() + curr\n",
        "                stack.pop()\n",
        "                num = \"\"\n",
        "                while stack and stack[-1].isdigit():\n",
        "                    num = stack.pop() + num\n",
        "                stack.append(curr * int(num))\n",
        "        return \"\".join(stack)\n",
        ""
      ]
    },
    {
      "cell_type": "markdown",
      "source": [
        "Given an encoded string, return its decoded string.\n",
        "\n",
        "The encoding rule is: k[encoded_string], where the encoded_string inside the square brackets is being repeated exactly k times. Note that k is guaranteed to be a positive integer.\n",
        "\n",
        "You may assume that the input string is always valid; there are no extra white spaces, square brackets are well-formed, etc. Furthermore, you may assume that the original data does not contain any digits and that digits are only for those repeat numbers, k. For example, there will not be input like 3a or 2[4].\n",
        "\n",
        "The test cases are generated so that the length of the output will never exceed 105.\n",
        "\n",
        "\n",
        "\n",
        "Example 1:\n",
        "\n",
        "Input: s = \"3[a]2[bc]\"\n",
        "Output: \"aaabcbc\"\n"
      ],
      "metadata": {
        "id": "DBoDYW6NYbid"
      }
    }
  ]
}