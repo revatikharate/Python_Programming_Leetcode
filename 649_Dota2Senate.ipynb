{
  "nbformat": 4,
  "nbformat_minor": 0,
  "metadata": {
    "colab": {
      "provenance": [],
      "authorship_tag": "ABX9TyOY8uZfiZMxBrbzIr21SzWn",
      "include_colab_link": true
    },
    "kernelspec": {
      "name": "python3",
      "display_name": "Python 3"
    },
    "language_info": {
      "name": "python"
    }
  },
  "cells": [
    {
      "cell_type": "markdown",
      "metadata": {
        "id": "view-in-github",
        "colab_type": "text"
      },
      "source": [
        "<a href=\"https://colab.research.google.com/github/revatikharate/Python_Programming_Leetcode/blob/main/649_Dota2Senate.ipynb\" target=\"_parent\"><img src=\"https://colab.research.google.com/assets/colab-badge.svg\" alt=\"Open In Colab\"/></a>"
      ]
    },
    {
      "cell_type": "code",
      "execution_count": null,
      "metadata": {
        "id": "a5feC1NG9MHb"
      },
      "outputs": [],
      "source": [
        "class Solution:\n",
        "    def predictPartyVictory(self, senate: str) -> str:\n",
        "\n",
        "        dire = deque()\n",
        "        radiant = deque()\n",
        "        n = len(senate)\n",
        "        for i in range(n):\n",
        "            if senate[i] == \"D\":\n",
        "                dire.append(i)\n",
        "            else:\n",
        "                radiant.append(i)\n",
        "\n",
        "        while dire and radiant:\n",
        "            d = dire.popleft()\n",
        "            r = radiant.popleft()\n",
        "            if r< d:\n",
        "                radiant.append(r + n)\n",
        "            else:\n",
        "                dire.append(d+n)\n",
        "        return \"Radiant\" if radiant else \"Dire\"\n",
        "\n",
        ""
      ]
    },
    {
      "cell_type": "markdown",
      "source": [
        "In the world of Dota2, there are two parties: the Radiant and the Dire.\n",
        "\n",
        "The Dota2 senate consists of senators coming from two parties. Now the Senate wants to decide on a change in the Dota2 game. The voting for this change is a round-based procedure. In each round, each senator can exercise one of the two rights:\n",
        "\n",
        "Ban one senator's right: A senator can make another senator lose all his rights in this and all the following rounds.\n",
        "Announce the victory: If this senator found the senators who still have rights to vote are all from the same party, he can announce the victory and decide on the change in the game.\n",
        "Given a string senate representing each senator's party belonging. The character 'R' and 'D' represent the Radiant party and the Dire party. Then if there are n senators, the size of the given string will be n.\n",
        "\n",
        "The round-based procedure starts from the first senator to the last senator in the given order. This procedure will last until the end of voting. All the senators who have lost their rights will be skipped during the procedure.\n",
        "\n",
        "Suppose every senator is smart enough and will play the best strategy for his own party. Predict which party will finally announce the victory and change the Dota2 game. The output should be \"Radiant\" or \"Dire\".\n",
        "\n",
        "\n",
        "\n",
        "Example 1:\n",
        "\n",
        "Input: senate = \"RD\"\n",
        "Output: \"Radiant\"\n",
        "Explanation:\n",
        "The first senator comes from Radiant and he can just ban the next senator's right in round 1.\n",
        "And the second senator can't exercise any rights anymore since his right has been banned.\n",
        "And in round 2, the first senator can just announce the victory since he is the only guy in the senate who can vote.\n",
        "Example 2:\n",
        "\n",
        "Input: senate = \"RDD\"\n",
        "Output: \"Dire\"\n",
        "Explanation:\n",
        "The first senator comes from Radiant and he can just ban the next senator's right in round 1.\n",
        "And the second senator can't exercise any rights anymore since his right has been banned.\n",
        "And the third senator comes from Dire and he can ban the first senator's right in round 1.\n",
        "And in round 2, the third senator can just announce the victory since he is the only guy in the senate who can vote.\n",
        ""
      ],
      "metadata": {
        "id": "IVJ26v3S9PZ3"
      }
    }
  ]
}