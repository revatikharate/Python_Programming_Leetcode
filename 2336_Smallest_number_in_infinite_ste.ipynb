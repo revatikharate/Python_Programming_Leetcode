{
  "nbformat": 4,
  "nbformat_minor": 0,
  "metadata": {
    "colab": {
      "provenance": [],
      "authorship_tag": "ABX9TyNsT56M2VrQPpI1cO1h3Xyi",
      "include_colab_link": true
    },
    "kernelspec": {
      "name": "python3",
      "display_name": "Python 3"
    },
    "language_info": {
      "name": "python"
    }
  },
  "cells": [
    {
      "cell_type": "markdown",
      "metadata": {
        "id": "view-in-github",
        "colab_type": "text"
      },
      "source": [
        "<a href=\"https://colab.research.google.com/github/revatikharate/Python_Programming_Leetcode/blob/main/2336_Smallest_number_in_infinite_ste.ipynb\" target=\"_parent\"><img src=\"https://colab.research.google.com/assets/colab-badge.svg\" alt=\"Open In Colab\"/></a>"
      ]
    },
    {
      "cell_type": "code",
      "execution_count": null,
      "metadata": {
        "id": "v7fgljTqjCJi"
      },
      "outputs": [],
      "source": [
        "class SmallestInfiniteSet:\n",
        "\n",
        "    def __init__(self):\n",
        "        self.smallest = 1\n",
        "        self.removed = set()\n",
        "\n",
        "    def popSmallest(self) -> int:\n",
        "        ret = self.smallest\n",
        "        self.removed.add(ret)\n",
        "        self.smallest +=1\n",
        "        while self.smallest in self.removed:\n",
        "            self.smallest +=1\n",
        "        return ret\n",
        "\n",
        "    def addBack(self, num: int) -> None:\n",
        "        if num in self.removed:\n",
        "            self.removed.remove(num)\n",
        "            if num < self.smallest:\n",
        "                self.smallest = num\n",
        "\n",
        "\n",
        "\n",
        "# Your SmallestInfiniteSet object will be instantiated and called as such:\n",
        "# obj = SmallestInfiniteSet()\n",
        "# param_1 = obj.popSmallest()\n",
        "# obj.addBack(num)"
      ]
    },
    {
      "cell_type": "markdown",
      "source": [
        "You have a set which contains all positive integers [1, 2, 3, 4, 5, ...].\n",
        "\n",
        "Implement the SmallestInfiniteSet class:\n",
        "\n",
        "SmallestInfiniteSet() Initializes the SmallestInfiniteSet object to contain all positive integers.\n",
        "int popSmallest() Removes and returns the smallest integer contained in the infinite set.\n",
        "void addBack(int num) Adds a positive integer num back into the infinite set, if it is not already in the infinite set.\n",
        "\n",
        "\n",
        "Example 1:\n",
        "\n",
        "Input\n",
        "[\"SmallestInfiniteSet\", \"addBack\", \"popSmallest\", \"popSmallest\", \"popSmallest\", \"addBack\", \"popSmallest\", \"popSmallest\", \"popSmallest\"]\n",
        "[[], [2], [], [], [], [1], [], [], []]\n",
        "Output\n",
        "[null, null, 1, 2, 3, null, 1, 4, 5]\n",
        "\n",
        "Explanation\n",
        "SmallestInfiniteSet smallestInfiniteSet = new SmallestInfiniteSet();\n",
        "smallestInfiniteSet.addBack(2);    // 2 is already in the set, so no change is made.\n",
        "smallestInfiniteSet.popSmallest(); // return 1, since 1 is the smallest number, and remove it from the set.\n",
        "smallestInfiniteSet.popSmallest(); // return 2, and remove it from the set.\n",
        "smallestInfiniteSet.popSmallest(); // return 3, and remove it from the set.\n",
        "smallestInfiniteSet.addBack(1);    // 1 is added back to the set.\n",
        "smallestInfiniteSet.popSmallest(); // return 1, since 1 was added back to the set and\n",
        "                                   // is the smallest number, and remove it from the set.\n",
        "smallestInfiniteSet.popSmallest(); // return 4, and remove it from the set.\n",
        "smallestInfiniteSet.popSmallest(); // return 5, and remove it from the set.\n"
      ],
      "metadata": {
        "id": "pTnyrDLDjK6b"
      }
    }
  ]
}