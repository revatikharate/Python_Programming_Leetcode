{
  "nbformat": 4,
  "nbformat_minor": 0,
  "metadata": {
    "colab": {
      "provenance": [],
      "authorship_tag": "ABX9TyO9Wl6hnFtirzfvbiXU9bj0",
      "include_colab_link": true
    },
    "kernelspec": {
      "name": "python3",
      "display_name": "Python 3"
    },
    "language_info": {
      "name": "python"
    }
  },
  "cells": [
    {
      "cell_type": "markdown",
      "metadata": {
        "id": "view-in-github",
        "colab_type": "text"
      },
      "source": [
        "<a href=\"https://colab.research.google.com/github/revatikharate/Python_Programming_Leetcode/blob/main/199_Binary_Tree_Right_Side_view.ipynb\" target=\"_parent\"><img src=\"https://colab.research.google.com/assets/colab-badge.svg\" alt=\"Open In Colab\"/></a>"
      ]
    },
    {
      "cell_type": "code",
      "execution_count": null,
      "metadata": {
        "id": "mGLdTPkA3abb"
      },
      "outputs": [],
      "source": [
        "Given a binary tree, find the lowest common ancestor (LCA) of two given nodes in the tree.\n",
        "\n",
        "According to the definition of LCA on Wikipedia: “The lowest common ancestor is defined between two nodes p and q as the lowest node in T that has both p and q as descendants (where we allow a node to be a descendant of itself).”\n",
        "\n",
        "\n",
        "\n",
        "Example 1:\n",
        "\n",
        "\n",
        "Input: root = [3,5,1,6,2,0,8,null,null,7,4], p = 5, q = 1\n",
        "Output: 3\n",
        "Explanation: The LCA of nodes 5 and 1 is 3.\n",
        "Example 2:\n",
        "\n",
        "\n",
        "Input: root = [3,5,1,6,2,0,8,null,null,7,4], p = 5, q = 4\n",
        "Output: 5\n",
        "Explanation: The LCA of nodes 5 and 4 is 5, since a node can be a descendant of itself according to the LCA definition.\n",
        "Example 3:\n",
        "\n",
        "Input: root = [1,2], p = 1, q = 2\n",
        "Output: 1"
      ]
    },
    {
      "cell_type": "markdown",
      "source": [
        "Given the root of a binary tree, imagine yourself standing on the right side of it, return the values of the nodes you can see ordered from top to bottom.\n",
        "\n",
        "\n",
        "\n",
        "Example 1:\n",
        "\n",
        "Input: root = [1,2,3,null,5,null,4]\n",
        "\n",
        "Output: [1,3,4]\n",
        "\n",
        "Explanation:\n",
        "\n",
        "\n",
        "\n",
        "Example 2:\n",
        "\n",
        "Input: root = [1,2,3,4,null,null,null,5]\n",
        "\n",
        "Output: [1,3,4,5]\n",
        "\n",
        "Explanation:\n",
        "\n",
        "\n",
        "\n",
        "Example 3:\n",
        "\n",
        "Input: root = [1,null,3]\n",
        "\n",
        "Output: [1,3]\n",
        "\n",
        "Example 4:\n",
        "\n",
        "Input: root = []\n",
        "\n",
        "Output: []"
      ],
      "metadata": {
        "id": "0_kJrK1P3bEt"
      }
    }
  ]
}