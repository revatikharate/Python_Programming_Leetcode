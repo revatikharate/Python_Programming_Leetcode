{
  "nbformat": 4,
  "nbformat_minor": 0,
  "metadata": {
    "colab": {
      "provenance": [],
      "authorship_tag": "ABX9TyMvMRFVRnzYgmVhZIZ9W5zn",
      "include_colab_link": true
    },
    "kernelspec": {
      "name": "python3",
      "display_name": "Python 3"
    },
    "language_info": {
      "name": "python"
    }
  },
  "cells": [
    {
      "cell_type": "markdown",
      "metadata": {
        "id": "view-in-github",
        "colab_type": "text"
      },
      "source": [
        "<a href=\"https://colab.research.google.com/github/revatikharate/Python_Programming_Leetcode/blob/main/1161_Max_leve_sum_of_BT.ipynb\" target=\"_parent\"><img src=\"https://colab.research.google.com/assets/colab-badge.svg\" alt=\"Open In Colab\"/></a>"
      ]
    },
    {
      "cell_type": "code",
      "execution_count": null,
      "metadata": {
        "id": "eGT4ZsCJ8bhM"
      },
      "outputs": [],
      "source": [
        "# Definition for a binary tree node.\n",
        "# class TreeNode:\n",
        "#     def __init__(self, val=0, left=None, right=None):\n",
        "#         self.val = val\n",
        "#         self.left = left\n",
        "#         self.right = right\n",
        "class Solution:\n",
        "    def maxLevelSum(self, root: Optional[TreeNode]) -> int:\n",
        "            self.level = defaultdict(int)\n",
        "            self.helper(root, 1)\n",
        "            return sorted(self.level.items(), key=lambda x:x[1], reverse=True)[0][0]\n",
        "\n",
        "\n",
        "    def helper(self, root, level):\n",
        "            if root:\n",
        "                self.level[level] += root.val\n",
        "                self.helper(root.left, level+1)\n",
        "                self.helper(root.right, level+1)\n",
        "\n",
        "\n",
        ""
      ]
    },
    {
      "cell_type": "markdown",
      "source": [
        "Given the root of a binary tree, the level of its root is 1, the level of its children is 2, and so on.\n",
        "\n",
        "Return the smallest level x such that the sum of all the values of nodes at level x is maximal.\n",
        "\n",
        "\n",
        "\n",
        "Example 1:\n",
        "\n",
        "\n",
        "Input: root = [1,7,0,7,-8,null,null]\n",
        "Output: 2\n",
        "Explanation:\n",
        "Level 1 sum = 1.\n",
        "Level 2 sum = 7 + 0 = 7.\n",
        "Level 3 sum = 7 + -8 = -1.\n",
        "So we return the level with the maximum sum which is level 2.\n",
        "Example 2:\n",
        "\n",
        "Input: root = [989,null,10250,98693,-89388,null,null,null,-32127]\n",
        "Output: 2"
      ],
      "metadata": {
        "id": "_gtdxBK98jhz"
      }
    }
  ]
}