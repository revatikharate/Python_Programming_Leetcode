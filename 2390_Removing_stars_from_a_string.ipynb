{
  "nbformat": 4,
  "nbformat_minor": 0,
  "metadata": {
    "colab": {
      "provenance": [],
      "include_colab_link": true
    },
    "kernelspec": {
      "name": "python3",
      "display_name": "Python 3"
    },
    "language_info": {
      "name": "python"
    }
  },
  "cells": [
    {
      "cell_type": "markdown",
      "metadata": {
        "id": "view-in-github",
        "colab_type": "text"
      },
      "source": [
        "<a href=\"https://colab.research.google.com/github/revatikharate/Python_Programming_Leetcode/blob/main/2390_Removing_stars_from_a_string.ipynb\" target=\"_parent\"><img src=\"https://colab.research.google.com/assets/colab-badge.svg\" alt=\"Open In Colab\"/></a>"
      ]
    },
    {
      "cell_type": "code",
      "execution_count": null,
      "metadata": {
        "id": "X7DpbnPHsVB1"
      },
      "outputs": [],
      "source": [
        "class Solution:\n",
        "    def removeStars(self, s: str) -> str:\n",
        "        stack = []\n",
        "\n",
        "        for char in s:\n",
        "            if char == \"*\":\n",
        "                stack and stack.pop()\n",
        "            else:\n",
        "                stack.append(char)\n",
        "        return \"\".join(stack)"
      ]
    },
    {
      "cell_type": "markdown",
      "source": [
        "You are given a string s, which contains stars *.\n",
        "\n",
        "In one operation, you can:\n",
        "\n",
        "Choose a star in s.\n",
        "Remove the closest non-star character to its left, as well as remove the star itself.\n",
        "Return the string after all stars have been removed.\n",
        "\n",
        "Note:\n",
        "\n",
        "The input will be generated such that the operation is always possible.\n",
        "It can be shown that the resulting string will always be unique.\n"
      ],
      "metadata": {
        "id": "CJ4gwIagKxOp"
      }
    }
  ]
}