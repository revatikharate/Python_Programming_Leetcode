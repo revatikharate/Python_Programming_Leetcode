{
  "nbformat": 4,
  "nbformat_minor": 0,
  "metadata": {
    "colab": {
      "provenance": [],
      "authorship_tag": "ABX9TyOYB1PbuUSdKtI8eysJTfj/",
      "include_colab_link": true
    },
    "kernelspec": {
      "name": "python3",
      "display_name": "Python 3"
    },
    "language_info": {
      "name": "python"
    }
  },
  "cells": [
    {
      "cell_type": "markdown",
      "metadata": {
        "id": "view-in-github",
        "colab_type": "text"
      },
      "source": [
        "<a href=\"https://colab.research.google.com/github/revatikharate/Python_Programming_Leetcode/blob/main/2462_total_cost_to_hire_K_workers.ipynb\" target=\"_parent\"><img src=\"https://colab.research.google.com/assets/colab-badge.svg\" alt=\"Open In Colab\"/></a>"
      ]
    },
    {
      "cell_type": "code",
      "execution_count": null,
      "metadata": {
        "id": "kBNTrIkBu31H"
      },
      "outputs": [],
      "source": [
        "import heapq\n",
        "class Solution:\n",
        "    def totalCost(self, costs: List[int], k: int, candidates: int) -> int:\n",
        "        heap = []\n",
        "        total_cost = 0\n",
        "        for i in range(candidates):\n",
        "            heapq.heappush(heap, (costs[i],i))\n",
        "        front_end = i\n",
        "        back_end = max(front_end + 1, len(costs)-candidates)\n",
        "        for j in range(back_end, len(costs)):\n",
        "            heapq.heappush(heap, (costs[j],j))\n",
        "\n",
        "        while k > 0:\n",
        "            cost, i = heapq.heappop(heap)\n",
        "            total_cost += cost\n",
        "            k -= 1\n",
        "            if front_end < back_end - 1:\n",
        "                if i <= front_end:\n",
        "                    front_end += 1\n",
        "                    heapq.heappush(heap, (costs[front_end], front_end))\n",
        "                else:\n",
        "                    back_end -= 1\n",
        "                    heapq.heappush(heap, (costs[back_end], back_end))\n",
        "        return total_cost"
      ]
    },
    {
      "cell_type": "markdown",
      "source": [
        "You are given a 0-indexed integer array costs where costs[i] is the cost of hiring the ith worker.\n",
        "\n",
        "You are also given two integers k and candidates. We want to hire exactly k workers according to the following rules:\n",
        "\n",
        "You will run k sessions and hire exactly one worker in each session.\n",
        "In each hiring session, choose the worker with the lowest cost from either the first candidates workers or the last candidates workers. Break the tie by the smallest index.\n",
        "For example, if costs = [3,2,7,7,1,2] and candidates = 2, then in the first hiring session, we will choose the 4th worker because they have the lowest cost [3,2,7,7,1,2].\n",
        "In the second hiring session, we will choose 1st worker because they have the same lowest cost as 4th worker but they have the smallest index [3,2,7,7,2]. Please note that the indexing may be changed in the process.\n",
        "If there are fewer than candidates workers remaining, choose the worker with the lowest cost among them. Break the tie by the smallest index.\n",
        "A worker can only be chosen once.\n",
        "Return the total cost to hire exactly k workers.\n",
        "\n",
        ""
      ],
      "metadata": {
        "id": "KvymG53dvFk9"
      }
    }
  ]
}