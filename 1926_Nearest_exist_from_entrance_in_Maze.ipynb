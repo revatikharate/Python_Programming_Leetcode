{
  "nbformat": 4,
  "nbformat_minor": 0,
  "metadata": {
    "colab": {
      "provenance": [],
      "authorship_tag": "ABX9TyM17qbJPWp8mztBhN5cAAhp",
      "include_colab_link": true
    },
    "kernelspec": {
      "name": "python3",
      "display_name": "Python 3"
    },
    "language_info": {
      "name": "python"
    }
  },
  "cells": [
    {
      "cell_type": "markdown",
      "metadata": {
        "id": "view-in-github",
        "colab_type": "text"
      },
      "source": [
        "<a href=\"https://colab.research.google.com/github/revatikharate/Python_Programming_Leetcode/blob/main/1926_Nearest_exist_from_entrance_in_Maze.ipynb\" target=\"_parent\"><img src=\"https://colab.research.google.com/assets/colab-badge.svg\" alt=\"Open In Colab\"/></a>"
      ]
    },
    {
      "cell_type": "code",
      "execution_count": null,
      "metadata": {
        "id": "BlsjevrJzzfm"
      },
      "outputs": [],
      "source": [
        "from collections import deque\n",
        "class Solution:\n",
        "    def nearestExit(self, maze: List[List[str]], entrance: List[int]) -> int:\n",
        "        cells = deque([(entrance[0], entrance[1], 0)])\n",
        "        maze[entrance[0]][entrance[1]] = \"+\"\n",
        "        rows, cols = len(maze), len(maze[0])\n",
        "        while cells:\n",
        "            r, c, steps = cells.popleft()\n",
        "            check = [(r+1,c),(r-1,c),(r,c+1),(r,c-1)]\n",
        "            for i,j in check:\n",
        "                if i >= 0 and j >= 0 and i < rows and j < cols and maze[i][j] == \".\":\n",
        "                    if i == 0 or j == 0 or i == rows - 1 or j == cols -1:\n",
        "                        return steps + 1\n",
        "                    cells.append((i, j, steps + 1))\n",
        "                    maze[i][j] = \"+\"\n",
        "        return -1"
      ]
    },
    {
      "cell_type": "markdown",
      "source": [
        "You are given an m x n matrix maze (0-indexed) with empty cells (represented as '.') and walls (represented as '+'). You are also given the entrance of the maze, where entrance = [entrancerow, entrancecol] denotes the row and column of the cell you are initially standing at.\n",
        "\n",
        "In one step, you can move one cell up, down, left, or right. You cannot step into a cell with a wall, and you cannot step outside the maze. Your goal is to find the nearest exit from the entrance. An exit is defined as an empty cell that is at the border of the maze. The entrance does not count as an exit.\n",
        "\n",
        "Return the number of steps in the shortest path from the entrance to the nearest exit, or -1 if no such path exists.\n",
        "\n"
      ],
      "metadata": {
        "id": "hLB6oR6_z4Nq"
      }
    }
  ]
}