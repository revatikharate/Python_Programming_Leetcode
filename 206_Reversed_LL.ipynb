{
  "nbformat": 4,
  "nbformat_minor": 0,
  "metadata": {
    "colab": {
      "provenance": [],
      "authorship_tag": "ABX9TyPZsH7oXH8oukfw/T+FO8Zl",
      "include_colab_link": true
    },
    "kernelspec": {
      "name": "python3",
      "display_name": "Python 3"
    },
    "language_info": {
      "name": "python"
    }
  },
  "cells": [
    {
      "cell_type": "markdown",
      "metadata": {
        "id": "view-in-github",
        "colab_type": "text"
      },
      "source": [
        "<a href=\"https://colab.research.google.com/github/revatikharate/Python_Programming_Leetcode/blob/main/206_Reversed_LL.ipynb\" target=\"_parent\"><img src=\"https://colab.research.google.com/assets/colab-badge.svg\" alt=\"Open In Colab\"/></a>"
      ]
    },
    {
      "cell_type": "code",
      "execution_count": null,
      "metadata": {
        "id": "p9codGdql60M"
      },
      "outputs": [],
      "source": [
        "#2 pointer iterative approach\n",
        "# Definition for singly-linked list.\n",
        "# class ListNode:\n",
        "#     def __init__(self, val=0, next=None):\n",
        "#         self.val = val\n",
        "#         self.next = next\n",
        "class Solution:\n",
        "    def oddEvenList(self, head: Optional[ListNode]) -> Optional[ListNode]:\n",
        "        if head is None or head.next is None:\n",
        "            return head\n",
        "        odd = head\n",
        "        even  = even_head = head.next\n",
        "\n",
        "        while even and even.next:\n",
        "            odd.next = even.next\n",
        "            odd = odd.next\n",
        "            even.next = odd.next\n",
        "            even = even.next\n",
        "        odd.next = even_head\n",
        "        return head\n",
        "\n",
        ""
      ]
    },
    {
      "cell_type": "code",
      "source": [
        "#recurvive apprach\n",
        "# Definition for singly-linked list.\n",
        "# class ListNode:\n",
        "#     def __init__(self, val=0, next=None):\n",
        "#         self.val = val\n",
        "#         self.next = next\n",
        "class Solution:\n",
        "    def helper(self, prev, curr):\n",
        "        if curr is None:\n",
        "            return prev\n",
        "\n",
        "        next_node = curr.next\n",
        "        curr.next=prev\n",
        "        new_head = self.helper(curr, next_node)\n",
        "        return new_head\n",
        "\n",
        "    def reverseList(self, head: Optional[ListNode]) -> Optional[ListNode]:\n",
        "        return self.helper(None, head)"
      ],
      "metadata": {
        "id": "km_Cq7L7mCh8"
      },
      "execution_count": null,
      "outputs": []
    },
    {
      "cell_type": "markdown",
      "source": [
        "Given the head of a singly linked list, reverse the list, and return the reversed list.\n",
        "\n",
        "Input: head = [1,2,3,4,5]\n",
        "Output: [5,4,3,2,1]\n"
      ],
      "metadata": {
        "id": "1wZ_y9UDpItU"
      }
    }
  ]
}