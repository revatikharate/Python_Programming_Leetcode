{
  "nbformat": 4,
  "nbformat_minor": 0,
  "metadata": {
    "colab": {
      "provenance": [],
      "authorship_tag": "ABX9TyOXqnttzLroBHYMeWUsJ+A5",
      "include_colab_link": true
    },
    "kernelspec": {
      "name": "python3",
      "display_name": "Python 3"
    },
    "language_info": {
      "name": "python"
    }
  },
  "cells": [
    {
      "cell_type": "markdown",
      "metadata": {
        "id": "view-in-github",
        "colab_type": "text"
      },
      "source": [
        "<a href=\"https://colab.research.google.com/github/revatikharate/Python_Programming_Leetcode/blob/main/1207_Unique_number_of_occurances.ipynb\" target=\"_parent\"><img src=\"https://colab.research.google.com/assets/colab-badge.svg\" alt=\"Open In Colab\"/></a>"
      ]
    },
    {
      "cell_type": "code",
      "execution_count": null,
      "metadata": {
        "id": "zvPuM_57grpD"
      },
      "outputs": [],
      "source": [
        "from collections import defaultdict\n",
        "class Solution:\n",
        "    def uniqueOccurrences(self, arr: List[int]) -> bool:\n",
        "        counts = defaultdict(int)\n",
        "        for num in arr:\n",
        "            counts[num] += 1\n",
        "        occur = list(counts.values())\n",
        "        return len(occur) == len(set(occur))"
      ]
    },
    {
      "cell_type": "markdown",
      "source": [
        "Given an array of integers arr, return true if the number of occurrences of each value in the array is unique or false otherwise.\n",
        "\n",
        "\n",
        "\n",
        "Example 1:\n",
        "\n",
        "Input: arr = [1,2,2,1,1,3]\n",
        "Output: true\n",
        "Explanation: The value 1 has 3 occurrences, 2 has 2 and 3 has 1. No two values have the same number of occurrences.\n",
        "Example 2:\n",
        "\n",
        "Input: arr = [1,2]\n",
        "Output: false\n",
        "Example 3:\n",
        "\n",
        "Input: arr = [-3,0,1,-3,1,1,1,-3,10,0]\n",
        "Output: true\n"
      ],
      "metadata": {
        "id": "PRvaugQzgvbL"
      }
    }
  ]
}