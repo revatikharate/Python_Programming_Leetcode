{
  "nbformat": 4,
  "nbformat_minor": 0,
  "metadata": {
    "colab": {
      "provenance": [],
      "authorship_tag": "ABX9TyMq6kAyYnmSkABHIgak1/e8",
      "include_colab_link": true
    },
    "kernelspec": {
      "name": "python3",
      "display_name": "Python 3"
    },
    "language_info": {
      "name": "python"
    }
  },
  "cells": [
    {
      "cell_type": "markdown",
      "metadata": {
        "id": "view-in-github",
        "colab_type": "text"
      },
      "source": [
        "<a href=\"https://colab.research.google.com/github/revatikharate/Python_Programming_Leetcode/blob/main/933_No_of_recent_calls.ipynb\" target=\"_parent\"><img src=\"https://colab.research.google.com/assets/colab-badge.svg\" alt=\"Open In Colab\"/></a>"
      ]
    },
    {
      "cell_type": "code",
      "execution_count": null,
      "metadata": {
        "id": "hkWiNHDX18le"
      },
      "outputs": [],
      "source": [
        "import collections\n",
        "class RecentCounter:\n",
        "\n",
        "    def __init__(self):\n",
        "        self.q = collections.deque()\n",
        "\n",
        "    def ping(self, t: int) -> int:\n",
        "        self.q.append(t)\n",
        "        while self.q[0] < t-3000:\n",
        "            self.q.popleft()\n",
        "        return len(self.q)\n",
        "\n",
        "\n",
        "\n",
        "# Your RecentCounter object will be instantiated and called as such:\n",
        "# obj = RecentCounter()\n",
        "# param_1 = obj.ping(t)"
      ]
    },
    {
      "cell_type": "markdown",
      "source": [
        "You have a RecentCounter class which counts the number of recent requests within a certain time frame.\n",
        "\n",
        "Implement the RecentCounter class:\n",
        "\n",
        "RecentCounter() Initializes the counter with zero recent requests.\n",
        "int ping(int t) Adds a new request at time t, where t represents some time in milliseconds, and returns the number of requests that has happened in the past 3000 milliseconds (including the new request). Specifically, return the number of requests that have happened in the inclusive range [t - 3000, t].\n",
        "It is guaranteed that every call to ping uses a strictly larger value of t than the previous call.\n",
        "\n"
      ],
      "metadata": {
        "id": "tNJAHaBz2BA7"
      }
    }
  ]
}