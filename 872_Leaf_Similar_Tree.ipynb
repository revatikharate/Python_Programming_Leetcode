{
  "nbformat": 4,
  "nbformat_minor": 0,
  "metadata": {
    "colab": {
      "provenance": [],
      "authorship_tag": "ABX9TyM4F6bWrK50Me+cR7Zoz+T1",
      "include_colab_link": true
    },
    "kernelspec": {
      "name": "python3",
      "display_name": "Python 3"
    },
    "language_info": {
      "name": "python"
    }
  },
  "cells": [
    {
      "cell_type": "markdown",
      "metadata": {
        "id": "view-in-github",
        "colab_type": "text"
      },
      "source": [
        "<a href=\"https://colab.research.google.com/github/revatikharate/Python_Programming_Leetcode/blob/main/872_Leaf_Similar_Tree.ipynb\" target=\"_parent\"><img src=\"https://colab.research.google.com/assets/colab-badge.svg\" alt=\"Open In Colab\"/></a>"
      ]
    },
    {
      "cell_type": "code",
      "execution_count": null,
      "metadata": {
        "id": "9rkVQzEG_2yq"
      },
      "outputs": [],
      "source": [
        "# Definition for a binary tree node.\n",
        "# class TreeNode:\n",
        "#     def __init__(self, val=0, left=None, right=None):\n",
        "#         self.val = val\n",
        "#         self.left = left\n",
        "#         self.right = right\n",
        "class Solution:\n",
        "    def leafSimilar(self, root1: Optional[TreeNode], root2: Optional[TreeNode]) -> bool:\n",
        "        leaf1 = []\n",
        "        leaf2 = []\n",
        "\n",
        "        def get_leaf(root, result):\n",
        "            if root.left is None and root.right is None:\n",
        "                result.append(root.val)\n",
        "                return\n",
        "            if root.left:\n",
        "                get_leaf(root.left, result)\n",
        "            if root.right:\n",
        "                get_leaf(root.right, result)\n",
        "\n",
        "            return\n",
        "\n",
        "        get_leaf(root1, leaf1)\n",
        "        get_leaf(root2, leaf2)\n",
        "        return leaf1 ==leaf2\n",
        "\n",
        "\n"
      ]
    },
    {
      "cell_type": "markdown",
      "source": [
        "Consider all the leaves of a binary tree, from left to right order, the values of those leaves form a leaf value sequence.\n",
        "\n",
        "\n",
        "\n",
        "For example, in the given tree above, the leaf value sequence is (6, 7, 4, 9, 8).\n",
        "\n",
        "Two binary trees are considered leaf-similar if their leaf value sequence is the same.\n",
        "\n",
        "Return true if and only if the two given trees with head nodes root1 and root2 are leaf-similar.\n",
        "\n",
        "\n",
        "\n",
        "Example 1:\n",
        "\n",
        "\n",
        "Input: root1 = [3,5,1,6,2,9,8,null,null,7,4], root2 = [3,5,1,6,7,4,2,null,null,null,null,null,null,9,8]\n",
        "Output: true\n",
        "Example 2:\n",
        "\n",
        "\n",
        "Input: root1 = [1,2,3], root2 = [1,3,2]\n",
        "Output: false"
      ],
      "metadata": {
        "id": "0z8drYHj_7sk"
      }
    }
  ]
}