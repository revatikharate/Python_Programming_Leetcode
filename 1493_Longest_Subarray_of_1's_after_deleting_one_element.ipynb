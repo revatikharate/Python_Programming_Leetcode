{
  "nbformat": 4,
  "nbformat_minor": 0,
  "metadata": {
    "colab": {
      "provenance": [],
      "authorship_tag": "ABX9TyO5WHHOgBM4KHRS/EGadM3U",
      "include_colab_link": true
    },
    "kernelspec": {
      "name": "python3",
      "display_name": "Python 3"
    },
    "language_info": {
      "name": "python"
    }
  },
  "cells": [
    {
      "cell_type": "markdown",
      "metadata": {
        "id": "view-in-github",
        "colab_type": "text"
      },
      "source": [
        "<a href=\"https://colab.research.google.com/github/revatikharate/Python_Programming_Leetcode/blob/main/1493_Longest_Subarray_of_1's_after_deleting_one_element.ipynb\" target=\"_parent\"><img src=\"https://colab.research.google.com/assets/colab-badge.svg\" alt=\"Open In Colab\"/></a>"
      ]
    },
    {
      "cell_type": "code",
      "execution_count": null,
      "metadata": {
        "id": "IkXPO9JI69sB"
      },
      "outputs": [],
      "source": [
        "class Solution:\n",
        "    def longestSubarray(self, nums: List[int]) -> int:\n",
        "\n",
        "        max_length = 0\n",
        "        start = 0\n",
        "        zero = -1 #index of lasr occurring zero\n",
        "\n",
        "        for i in range(len(nums)):\n",
        "            if nums[i] == 0:\n",
        "                start = zero + 1\n",
        "                zero = i\n",
        "\n",
        "            max_length = max(max_length, i-start)\n",
        "        return max_length"
      ]
    },
    {
      "cell_type": "markdown",
      "source": [
        "Given a binary array nums, you should delete one element from it.\n",
        "\n",
        "Return the size of the longest non-empty subarray containing only 1's in the resulting array. Return 0 if there is no such subarray.\n",
        "\n",
        "\n",
        "\n",
        "Example 1:\n",
        "\n",
        "Input: nums = [1,1,0,1]\n",
        "Output: 3\n",
        "Explanation: After deleting the number in position 2, [1,1,1] contains 3 numbers with value of 1's.\n",
        "Example 2:\n",
        "\n",
        "Input: nums = [0,1,1,1,0,1,1,0,1]\n",
        "Output: 5\n",
        "Explanation: After deleting the number in position 4, [0,1,1,1,1,1,0,1] longest subarray with value of 1's is [1,1,1,1,1].\n",
        "Example 3:\n",
        "\n",
        "Input: nums = [1,1,1]\n",
        "Output: 2\n",
        "Explanation: You must delete one element.\n"
      ],
      "metadata": {
        "id": "LplAWz-_AwJY"
      }
    }
  ]
}