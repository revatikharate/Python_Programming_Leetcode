{
  "nbformat": 4,
  "nbformat_minor": 0,
  "metadata": {
    "colab": {
      "provenance": [],
      "authorship_tag": "ABX9TyPlHQRt+oGFDS0G+cAHs7sU",
      "include_colab_link": true
    },
    "kernelspec": {
      "name": "python3",
      "display_name": "Python 3"
    },
    "language_info": {
      "name": "python"
    }
  },
  "cells": [
    {
      "cell_type": "markdown",
      "metadata": {
        "id": "view-in-github",
        "colab_type": "text"
      },
      "source": [
        "<a href=\"https://colab.research.google.com/github/revatikharate/Python_Programming_Leetcode/blob/main/1004_Max_consecutive_ones_iii.ipynb\" target=\"_parent\"><img src=\"https://colab.research.google.com/assets/colab-badge.svg\" alt=\"Open In Colab\"/></a>"
      ]
    },
    {
      "cell_type": "code",
      "execution_count": null,
      "metadata": {
        "id": "bprhQgxs6tCQ"
      },
      "outputs": [],
      "source": [
        "class Solution:\n",
        "    def longestOnes(self, nums: List[int], k: int) -> int:\n",
        "        start = 0\n",
        "        end = 0\n",
        "        max_ones = 0\n",
        "        while end < len(nums):\n",
        "            if nums[end] == 0:\n",
        "                k -=1\n",
        "\n",
        "            while k < 0:\n",
        "                if nums[start] ==0:\n",
        "                    k +=1\n",
        "                start +=1\n",
        "\n",
        "            max_ones = max(max_ones, end-start +1)\n",
        "            end +=1\n",
        "\n",
        "        return max_ones\n",
        "\n",
        "\n"
      ]
    },
    {
      "cell_type": "markdown",
      "source": [
        "Given a binary array nums and an integer k, return the maximum number of consecutive 1's in the array if you can flip at most k 0's.\n",
        "\n",
        "\n",
        "\n",
        "Example 1:\n",
        "\n",
        "Input: nums = [1,1,1,0,0,0,1,1,1,1,0], k = 2\n",
        "Output: 6\n",
        "Explanation: [1,1,1,0,0,1,1,1,1,1,1]\n",
        "Bolded numbers were flipped from 0 to 1. The longest subarray is underlined.\n",
        "Example 2:\n",
        "\n",
        "Input: nums = [0,0,1,1,0,0,1,1,1,0,1,1,0,0,0,1,1,1,1], k = 3\n",
        "Output: 10\n",
        "Explanation: [0,0,1,1,1,1,1,1,1,1,1,1,0,0,0,1,1,1,1]\n",
        "Bolded numbers were flipped from 0 to 1. The longest subarray is underlined.\n",
        ""
      ],
      "metadata": {
        "id": "aYJnc9w0604A"
      }
    }
  ]
}