{
  "nbformat": 4,
  "nbformat_minor": 0,
  "metadata": {
    "colab": {
      "provenance": [],
      "authorship_tag": "ABX9TyM6uJiTrq2Hiv66A2pEFiXh",
      "include_colab_link": true
    },
    "kernelspec": {
      "name": "python3",
      "display_name": "Python 3"
    },
    "language_info": {
      "name": "python"
    }
  },
  "cells": [
    {
      "cell_type": "markdown",
      "metadata": {
        "id": "view-in-github",
        "colab_type": "text"
      },
      "source": [
        "<a href=\"https://colab.research.google.com/github/revatikharate/Python_Programming_Leetcode/blob/main/457_Number_of_province.ipynb\" target=\"_parent\"><img src=\"https://colab.research.google.com/assets/colab-badge.svg\" alt=\"Open In Colab\"/></a>"
      ]
    },
    {
      "cell_type": "code",
      "execution_count": null,
      "metadata": {
        "id": "_PiwMohZqZp2"
      },
      "outputs": [],
      "source": [
        "class Solution:\n",
        "    def findCircleNum(self, isConnected: List[List[int]]) -> int:\n",
        "        def dfs(i):\n",
        "            self.visited.add(i)\n",
        "            for j in range(n):\n",
        "                if isConnected[i][j] and j not in self.visited:\n",
        "                    dfs(j)\n",
        "            return\n",
        "\n",
        "        province = 0\n",
        "        self.visited = set()\n",
        "        n = len(isConnected)\n",
        "        for i in range(n):\n",
        "            if i not in self.visited:\n",
        "                province +=1\n",
        "                dfs(i)\n",
        "        return province\n",
        ""
      ]
    },
    {
      "cell_type": "markdown",
      "source": [
        "There are n cities. Some of them are connected, while some are not. If city a is connected directly with city b, and city b is connected directly with city c, then city a is connected indirectly with city c.\n",
        "\n",
        "A province is a group of directly or indirectly connected cities and no other cities outside of the group.\n",
        "\n",
        "You are given an n x n matrix isConnected where isConnected[i][j] = 1 if the ith city and the jth city are directly connected, and isConnected[i][j] = 0 otherwise.\n",
        "\n",
        "Return the total number of provinces.\n",
        "\n",
        "\n",
        "\n",
        "Example 1:\n",
        "\n",
        "\n",
        "Input: isConnected = [[1,1,0],[1,1,0],[0,0,1]]\n",
        "Output: 2\n"
      ],
      "metadata": {
        "id": "Ao-8wO-Preh-"
      }
    }
  ]
}