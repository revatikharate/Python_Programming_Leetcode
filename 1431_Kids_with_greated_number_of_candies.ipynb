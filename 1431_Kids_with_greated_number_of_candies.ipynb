{
  "nbformat": 4,
  "nbformat_minor": 0,
  "metadata": {
    "colab": {
      "provenance": [],
      "authorship_tag": "ABX9TyMOzcYamk3+V6/Lz5t6+vSc",
      "include_colab_link": true
    },
    "kernelspec": {
      "name": "python3",
      "display_name": "Python 3"
    },
    "language_info": {
      "name": "python"
    }
  },
  "cells": [
    {
      "cell_type": "markdown",
      "metadata": {
        "id": "view-in-github",
        "colab_type": "text"
      },
      "source": [
        "<a href=\"https://colab.research.google.com/github/revatikharate/Python_Programming_Leetcode/blob/main/1431_Kids_with_greated_number_of_candies.ipynb\" target=\"_parent\"><img src=\"https://colab.research.google.com/assets/colab-badge.svg\" alt=\"Open In Colab\"/></a>"
      ]
    },
    {
      "cell_type": "code",
      "execution_count": null,
      "metadata": {
        "id": "fLHpojyHXeRH"
      },
      "outputs": [],
      "source": []
    },
    {
      "cell_type": "markdown",
      "source": [
        "There are n kids with candies. You are given an integer array candies, where each candies[i] represents the number of candies the ith kid has, and an integer extraCandies, denoting the number of extra candies that you have.\n",
        "\n",
        "Return a boolean array result of length n, where result[i] is true if, after giving the ith kid all the extraCandies, they will have the greatest number of candies among all the kids, or false otherwise.\n",
        "\n",
        "Note that multiple kids can have the greatest number of candies.\n",
        "\n",
        "\n",
        "\n",
        "Example 1:\n",
        "\n",
        "Input: candies = [2,3,5,1,3], extraCandies = 3\n",
        "Output: [true,true,true,false,true]\n",
        "Explanation: If you give all extraCandies to:\n",
        "- Kid 1, they will have 2 + 3 = 5 candies, which is the greatest among the kids.\n",
        "- Kid 2, they will have 3 + 3 = 6 candies, which is the greatest among the kids.\n",
        "- Kid 3, they will have 5 + 3 = 8 candies, which is the greatest among the kids.\n",
        "- Kid 4, they will have 1 + 3 = 4 candies, which is not the greatest among the kids.\n",
        "- Kid 5, they will have 3 + 3 = 6 candies, which is the greatest among the kids.\n",
        "Example 2:\n",
        "\n",
        "Input: candies = [4,2,1,1,2], extraCandies = 1\n",
        "Output: [true,false,false,false,false]\n",
        "Explanation: There is only 1 extra candy.\n",
        "Kid 1 will always have the greatest number of candies, even if a different kid is given the extra candy.\n",
        "Example 3:\n",
        "\n",
        "Input: candies = [12,1,12], extraCandies = 10\n",
        "Output: [true,false,true]\n",
        "\n",
        "\n",
        "Constraints:\n",
        "\n",
        "n == candies.length\n",
        "2 <= n <= 100\n",
        "1 <= candies[i] <= 100\n",
        "1 <= extraCandies <= 50"
      ],
      "metadata": {
        "id": "fmk9xiNBXkXA"
      }
    },
    {
      "cell_type": "code",
      "source": [
        "class Solution:\n",
        "    def kidsWithCandies(self, candies: List[int], extraCandies: int) -> List[bool]:\n",
        "            # Step 1: Find the current max\n",
        "        max_candies = max(candies)\n",
        "\n",
        "        # Step 2: Create an empty list to store the results\n",
        "        result = []\n",
        "\n",
        "    # Step 3: Loop through each kid\n",
        "        for count in candies:\n",
        "            # Step 4: Check if this kid can have the most candies\n",
        "            if count + extraCandies >= max_candies:\n",
        "                result.append(True)\n",
        "            else:\n",
        "                result.append(False)\n",
        "\n",
        "        # Step 5: Return the final result list\n",
        "        return result\n",
        ""
      ],
      "metadata": {
        "id": "Gx820TqgXoN3"
      },
      "execution_count": null,
      "outputs": []
    }
  ]
}