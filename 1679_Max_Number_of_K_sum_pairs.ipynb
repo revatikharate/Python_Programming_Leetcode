{
  "nbformat": 4,
  "nbformat_minor": 0,
  "metadata": {
    "colab": {
      "provenance": [],
      "authorship_tag": "ABX9TyPjPysm0jYP4IdHD7acJu4q",
      "include_colab_link": true
    },
    "kernelspec": {
      "name": "python3",
      "display_name": "Python 3"
    },
    "language_info": {
      "name": "python"
    }
  },
  "cells": [
    {
      "cell_type": "markdown",
      "metadata": {
        "id": "view-in-github",
        "colab_type": "text"
      },
      "source": [
        "<a href=\"https://colab.research.google.com/github/revatikharate/Python_Programming_Leetcode/blob/main/1679_Max_Number_of_K_sum_pairs.ipynb\" target=\"_parent\"><img src=\"https://colab.research.google.com/assets/colab-badge.svg\" alt=\"Open In Colab\"/></a>"
      ]
    },
    {
      "cell_type": "code",
      "execution_count": null,
      "metadata": {
        "id": "ktW4r3SeNhSK"
      },
      "outputs": [],
      "source": [
        "from collections import defaultdict\n",
        "class Solution:\n",
        "    def maxOperations(self, nums: List[int], k: int) -> int:\n",
        "\n",
        "        d = defaultdict(int)\n",
        "        pairs = 0\n",
        "\n",
        "        for num in nums:\n",
        "            if d[k-num] > 0:\n",
        "                pairs +=1\n",
        "                d[k-num] -=1\n",
        "            else:\n",
        "                d[num] +=1\n",
        "        return pairs\n"
      ]
    },
    {
      "cell_type": "markdown",
      "source": [
        "You are given an integer array nums and an integer k.\n",
        "\n",
        "In one operation, you can pick two numbers from the array whose sum equals k and remove them from the array.\n",
        "\n",
        "Return the maximum number of operations you can perform on the array.\n",
        "\n",
        "\n",
        "\n",
        "Example 1:\n",
        "\n",
        "Input: nums = [1,2,3,4], k = 5\n",
        "Output: 2\n",
        "Explanation: Starting with nums = [1,2,3,4]:\n",
        "- Remove numbers 1 and 4, then nums = [2,3]\n",
        "- Remove numbers 2 and 3, then nums = []\n",
        "There are no more pairs that sum up to 5, hence a total of 2 operations.\n",
        "Example 2:\n",
        "\n",
        "Input: nums = [3,1,3,4,3], k = 6\n",
        "Output: 1\n",
        "Explanation: Starting with nums = [3,1,3,4,3]:\n",
        "- Remove the first two 3's, then nums = [1,4,3]\n",
        "There are no more pairs that sum up to 6, hence a total of 1 operation.\n"
      ],
      "metadata": {
        "id": "LS_IphscSGbD"
      }
    }
  ]
}