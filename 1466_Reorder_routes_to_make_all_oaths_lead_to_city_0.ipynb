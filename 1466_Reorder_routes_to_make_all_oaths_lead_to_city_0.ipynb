{
  "nbformat": 4,
  "nbformat_minor": 0,
  "metadata": {
    "colab": {
      "provenance": [],
      "authorship_tag": "ABX9TyP6KsfxlapWWQfDd0xZyRvg",
      "include_colab_link": true
    },
    "kernelspec": {
      "name": "python3",
      "display_name": "Python 3"
    },
    "language_info": {
      "name": "python"
    }
  },
  "cells": [
    {
      "cell_type": "markdown",
      "metadata": {
        "id": "view-in-github",
        "colab_type": "text"
      },
      "source": [
        "<a href=\"https://colab.research.google.com/github/revatikharate/Python_Programming_Leetcode/blob/main/1466_Reorder_routes_to_make_all_oaths_lead_to_city_0.ipynb\" target=\"_parent\"><img src=\"https://colab.research.google.com/assets/colab-badge.svg\" alt=\"Open In Colab\"/></a>"
      ]
    },
    {
      "cell_type": "code",
      "execution_count": null,
      "metadata": {
        "id": "kqxMOH2ayiX4"
      },
      "outputs": [],
      "source": [
        "class Solution:\n",
        "    def minReorder(self, n: int, connections: List[List[int]]) -> int:\n",
        "        neighbors = defaultdict(list)\n",
        "        connection = set()\n",
        "        for start, end in connections:\n",
        "            neighbors[start].append(end)\n",
        "            neighbors[end].append(start)\n",
        "            connection.add((start, end))\n",
        "\n",
        "        curr = [0]\n",
        "        reverse = 0\n",
        "        visited = set()\n",
        "        visited.add(0)\n",
        "\n",
        "        while curr:\n",
        "            new_curr = []\n",
        "            for city in curr:\n",
        "                for n in neighbors[city]:\n",
        "                    if n not in visited:\n",
        "                        visited.add(n)\n",
        "                        if (n, city) not in connection:\n",
        "                            reverse += 1\n",
        "                        new_curr.append(n)\n",
        "            curr = new_curr\n",
        "        return reverse"
      ]
    },
    {
      "cell_type": "markdown",
      "source": [
        "There are n cities numbered from 0 to n - 1 and n - 1 roads such that there is only one way to travel between two different cities (this network form a tree). Last year, The ministry of transport decided to orient the roads in one direction because they are too narrow.\n",
        "\n",
        "Roads are represented by connections where connections[i] = [ai, bi] represents a road from city ai to city bi.\n",
        "\n",
        "This year, there will be a big event in the capital (city 0), and many people want to travel to this city.\n",
        "\n",
        "Your task consists of reorienting some roads such that each city can visit the city 0. Return the minimum number of edges changed.\n",
        "\n",
        "It's guaranteed that each city can reach city 0 after reorder.\n",
        "\n",
        "\n",
        "\n",
        "Example 1:\n",
        "\n",
        "\n",
        "Input: n = 6, connections = [[0,1],[1,3],[2,3],[4,0],[4,5]]\n",
        "Output: 3\n",
        "Explanation: Change the direction of edges show in red such that each node can reach the node 0 (capital).\n"
      ],
      "metadata": {
        "id": "vUoKCMbiyju8"
      }
    }
  ]
}