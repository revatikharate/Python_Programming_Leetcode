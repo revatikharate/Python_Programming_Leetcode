{
  "nbformat": 4,
  "nbformat_minor": 0,
  "metadata": {
    "colab": {
      "provenance": [],
      "authorship_tag": "ABX9TyPcaUQwPfE+P11VnQb0Sqms",
      "include_colab_link": true
    },
    "kernelspec": {
      "name": "python3",
      "display_name": "Python 3"
    },
    "language_info": {
      "name": "python"
    }
  },
  "cells": [
    {
      "cell_type": "markdown",
      "metadata": {
        "id": "view-in-github",
        "colab_type": "text"
      },
      "source": [
        "<a href=\"https://colab.research.google.com/github/revatikharate/Python_Programming_Leetcode/blob/main/841_Keys_and_Rooms.ipynb\" target=\"_parent\"><img src=\"https://colab.research.google.com/assets/colab-badge.svg\" alt=\"Open In Colab\"/></a>"
      ]
    },
    {
      "cell_type": "code",
      "execution_count": null,
      "metadata": {
        "id": "OrhOdaqv6UZi"
      },
      "outputs": [],
      "source": [
        "class Solution:\n",
        "    def canVisitAllRooms(self, rooms: List[List[int]]) -> bool:\n",
        "        visited = set()\n",
        "        def dfs(room):\n",
        "            visited.add(room)\n",
        "            for i in rooms[room]:\n",
        "                if i not in visited:\n",
        "                    dfs(i)\n",
        "\n",
        "        dfs(0)\n",
        "        return len(visited) == len(rooms)"
      ]
    },
    {
      "cell_type": "markdown",
      "source": [
        "There are n rooms labeled from 0 to n - 1 and all the rooms are locked except for room 0. Your goal is to visit all the rooms. However, you cannot enter a locked room without having its key.\n",
        "\n",
        "When you visit a room, you may find a set of distinct keys in it. Each key has a number on it, denoting which room it unlocks, and you can take all of them with you to unlock the other rooms.\n",
        "\n",
        "Given an array rooms where rooms[i] is the set of keys that you can obtain if you visited room i, return true if you can visit all the rooms, or false otherwise.\n",
        "\n",
        "\n",
        "\n",
        "Example 1:\n",
        "\n",
        "Input: rooms = [[1],[2],[3],[]]\n",
        "Output: true\n",
        "Explanation:\n",
        "We visit room 0 and pick up key 1.\n",
        "We then visit room 1 and pick up key 2.\n",
        "We then visit room 2 and pick up key 3.\n",
        "We then visit room 3.\n",
        "Since we were able to visit every room, we return true.\n",
        "Example 2:\n",
        "\n",
        "Input: rooms = [[1,3],[3,0,1],[2],[0]]\n",
        "Output: false\n",
        "Explanation: We can not enter room number 2 since the only key that unlocks it is in that room."
      ],
      "metadata": {
        "id": "8KBy96CM6X2-"
      }
    }
  ]
}