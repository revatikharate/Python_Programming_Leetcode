{
  "nbformat": 4,
  "nbformat_minor": 0,
  "metadata": {
    "colab": {
      "provenance": [],
      "authorship_tag": "ABX9TyNs18Ru1iCK8vJAoM3DXHQ/",
      "include_colab_link": true
    },
    "kernelspec": {
      "name": "python3",
      "display_name": "Python 3"
    },
    "language_info": {
      "name": "python"
    }
  },
  "cells": [
    {
      "cell_type": "markdown",
      "metadata": {
        "id": "view-in-github",
        "colab_type": "text"
      },
      "source": [
        "<a href=\"https://colab.research.google.com/github/revatikharate/Python_Programming_Leetcode/blob/main/236_Lowest_Commen_acncestor_of_BT.ipynb\" target=\"_parent\"><img src=\"https://colab.research.google.com/assets/colab-badge.svg\" alt=\"Open In Colab\"/></a>"
      ]
    },
    {
      "cell_type": "code",
      "execution_count": null,
      "metadata": {
        "id": "xFx-K_C3ux8d"
      },
      "outputs": [],
      "source": [
        "# Definition for a binary tree node.\n",
        "# class TreeNode:\n",
        "#     def __init__(self, x):\n",
        "#         self.val = x\n",
        "#         self.left = None\n",
        "#         self.right = None\n",
        "\n",
        "class Solution:\n",
        "    def lowestCommonAncestor(self, root: 'TreeNode', p: 'TreeNode', q: 'TreeNode') -> 'TreeNode':\n",
        "\n",
        "            if not root :\n",
        "                return None\n",
        "\n",
        "            if root == p or root == q:\n",
        "                return root\n",
        "\n",
        "            l = self.lowestCommonAncestor(root.left, p, q)\n",
        "            r = self.lowestCommonAncestor(root.right, p, q)\n",
        "\n",
        "            if l and r:\n",
        "                return root\n",
        "            else:\n",
        "                return l or r\n"
      ]
    },
    {
      "cell_type": "markdown",
      "source": [
        "Given a binary tree, find the lowest common ancestor (LCA) of two given nodes in the tree.\n",
        "\n",
        "According to the definition of LCA on Wikipedia: “The lowest common ancestor is defined between two nodes p and q as the lowest node in T that has both p and q as descendants (where we allow a node to be a descendant of itself).”\n",
        "\n",
        "\n",
        "\n",
        "Example 1:\n",
        "\n",
        "\n",
        "Input: root = [3,5,1,6,2,0,8,null,null,7,4], p = 5, q = 1\n",
        "Output: 3\n",
        "Explanation: The LCA of nodes 5 and 1 is 3.\n",
        "Example 2:\n",
        "\n",
        "\n",
        "Input: root = [3,5,1,6,2,0,8,null,null,7,4], p = 5, q = 4\n",
        "Output: 5\n",
        "Explanation: The LCA of nodes 5 and 4 is 5, since a node can be a descendant of itself according to the LCA definition.\n",
        "Example 3:\n",
        "\n",
        "Input: root = [1,2], p = 1, q = 2\n",
        "Output: 1"
      ],
      "metadata": {
        "id": "EZzsQwVZu4QS"
      }
    }
  ]
}