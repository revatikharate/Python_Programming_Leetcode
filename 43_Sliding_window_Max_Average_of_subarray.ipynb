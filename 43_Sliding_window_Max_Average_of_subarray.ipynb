{
  "nbformat": 4,
  "nbformat_minor": 0,
  "metadata": {
    "colab": {
      "provenance": [],
      "authorship_tag": "ABX9TyM7oYnkVEBbjMDNyKYOgQpA",
      "include_colab_link": true
    },
    "kernelspec": {
      "name": "python3",
      "display_name": "Python 3"
    },
    "language_info": {
      "name": "python"
    }
  },
  "cells": [
    {
      "cell_type": "markdown",
      "metadata": {
        "id": "view-in-github",
        "colab_type": "text"
      },
      "source": [
        "<a href=\"https://colab.research.google.com/github/revatikharate/Python_Programming_Leetcode/blob/main/43_Sliding_window_Max_Average_of_subarray.ipynb\" target=\"_parent\"><img src=\"https://colab.research.google.com/assets/colab-badge.svg\" alt=\"Open In Colab\"/></a>"
      ]
    },
    {
      "cell_type": "code",
      "execution_count": null,
      "metadata": {
        "id": "GW1HOONGVxMH"
      },
      "outputs": [],
      "source": [
        "class Solution:\n",
        "    def findMaxAverage(self, nums: List[int], k: int) -> float:\n",
        "        curr_sum = max_sum = sum(nums[:k])\n",
        "\n",
        "        for i in range(len(nums)-k):\n",
        "            curr_sum +=nums[i+k]-nums[i]\n",
        "            max_sum = max(curr_sum, max_sum)\n",
        "        return max_sum/k"
      ]
    },
    {
      "cell_type": "markdown",
      "source": [
        "You are given an integer array nums consisting of n elements, and an integer k.\n",
        "\n",
        "Find a contiguous subarray whose length is equal to k that has the maximum average value and return this value. Any answer with a calculation error less than 10-5 will be accepted.\n",
        "\n",
        "\n",
        "\n",
        "Example 1:\n",
        "\n",
        "Input: nums = [1,12,-5,-6,50,3], k = 4\n",
        "Output: 12.75000\n",
        "Explanation: Maximum average is (12 - 5 - 6 + 50) / 4 = 51 / 4 = 12.75\n",
        "Example 2:\n",
        "\n",
        "Input: nums = [5], k = 1\n",
        "Output: 5.00000\n"
      ],
      "metadata": {
        "id": "5ENzu80PV3sP"
      }
    }
  ]
}