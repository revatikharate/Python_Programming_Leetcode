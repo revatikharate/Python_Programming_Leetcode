{
  "nbformat": 4,
  "nbformat_minor": 0,
  "metadata": {
    "colab": {
      "provenance": [],
      "authorship_tag": "ABX9TyOOyrbX9n4m0syG/ZZ6q80A",
      "include_colab_link": true
    },
    "kernelspec": {
      "name": "python3",
      "display_name": "Python 3"
    },
    "language_info": {
      "name": "python"
    }
  },
  "cells": [
    {
      "cell_type": "markdown",
      "metadata": {
        "id": "view-in-github",
        "colab_type": "text"
      },
      "source": [
        "<a href=\"https://colab.research.google.com/github/revatikharate/Python_Programming_Leetcode/blob/main/443_string_compression_python.ipynb\" target=\"_parent\"><img src=\"https://colab.research.google.com/assets/colab-badge.svg\" alt=\"Open In Colab\"/></a>"
      ]
    },
    {
      "cell_type": "code",
      "execution_count": null,
      "metadata": {
        "id": "in6LWWZ-06Nw"
      },
      "outputs": [],
      "source": [
        "class Solution:\n",
        "    def compress(self, chars: List[str]) -> int:\n",
        "        insert = 0\n",
        "        i = 0\n",
        "        while i < len(chars):\n",
        "            group = 1\n",
        "            while (group + i) < len(chars) and chars[group + i] == chars[i]:\n",
        "                group += 1\n",
        "            chars[insert] = chars[i]\n",
        "            insert += 1\n",
        "            if group > 1:\n",
        "                string = str(group)\n",
        "                chars[insert:insert+len(string)] = list(string)\n",
        "                insert += len(string)\n",
        "\n",
        "            i += group\n",
        "        return insert"
      ]
    }
  ]
}