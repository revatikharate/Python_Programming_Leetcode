{
  "nbformat": 4,
  "nbformat_minor": 0,
  "metadata": {
    "colab": {
      "provenance": [],
      "authorship_tag": "ABX9TyNuMCise4/wJCF0029UQFU0",
      "include_colab_link": true
    },
    "kernelspec": {
      "name": "python3",
      "display_name": "Python 3"
    },
    "language_info": {
      "name": "python"
    }
  },
  "cells": [
    {
      "cell_type": "markdown",
      "metadata": {
        "id": "view-in-github",
        "colab_type": "text"
      },
      "source": [
        "<a href=\"https://colab.research.google.com/github/revatikharate/Python_Programming_Leetcode/blob/main/443_string_compression_python.ipynb\" target=\"_parent\"><img src=\"https://colab.research.google.com/assets/colab-badge.svg\" alt=\"Open In Colab\"/></a>"
      ]
    },
    {
      "cell_type": "code",
      "execution_count": null,
      "metadata": {
        "id": "in6LWWZ-06Nw"
      },
      "outputs": [],
      "source": [
        "class Solution:\n",
        "    def compress(self, chars: List[str]) -> int:\n",
        "        insert = 0\n",
        "        i = 0\n",
        "        while i < len(chars):\n",
        "            group = 1\n",
        "            while (group + i) < len(chars) and chars[group + i] == chars[i]:\n",
        "                group += 1\n",
        "            chars[insert] = chars[i]\n",
        "            insert += 1\n",
        "            if group > 1:\n",
        "                string = str(group)\n",
        "                chars[insert:insert+len(string)] = list(string)\n",
        "                insert += len(string)\n",
        "\n",
        "            i += group\n",
        "        return insert"
      ]
    },
    {
      "cell_type": "markdown",
      "source": [
        "443. String Compression\n",
        "Question:\n",
        "Given an array of characters chars, compress it using the following algorithm:\n",
        "\n",
        "Begin with an empty string s. For each group of consecutive repeating characters in chars:\n",
        "\n",
        "If the group's length is 1, append the character to s.\n",
        "Otherwise, append the character followed by the group's length.\n",
        "The compressed string s should not be returned separately, but instead, be stored in the input character array chars. Note that group lengths that are 10 or longer will be split into multiple characters in chars.\n",
        "\n",
        "After you are done modifying the input array, return the new length of the array.\n",
        "\n",
        "You must write an algorithm that uses only constant extra space.\n",
        "\n",
        "Example 1:\n",
        "\n",
        "Input: chars = [\"a\",\"a\",\"b\",\"b\",\"c\",\"c\",\"c\"]\n",
        "Output: Return 6, and the first 6 characters of the input array should be: [\"a\",\"2\",\"b\",\"2\",\"c\",\"3\"]\n",
        "Explanation: The groups are \"aa\", \"bb\", and \"ccc\". This compresses to \"a2b2c3\".\n",
        "Example 2:\n",
        "\n",
        "Input: chars = [\"a\"]\n",
        "Output: Return 1, and the first character of the input array should be: [\"a\"]\n",
        "Explanation: The only group is \"a\", which remains uncompressed since it's a single character.\n",
        "Example 3:\n",
        "\n",
        "Input: chars = [\"a\",\"b\",\"b\",\"b\",\"b\",\"b\",\"b\",\"b\",\"b\",\"b\",\"b\",\"b\",\"b\"]\n",
        "Output: Return 4, and the first 4 characters of the input array should be: [\"a\",\"b\",\"1\",\"2\"].\n",
        "Explanation: The groups are \"a\" and \"bbbbbbbbbbbb\". This compresses to \"ab12\".\n",
        "\n",
        "\n",
        "Constraints:\n",
        "\n",
        "1 <= chars.length <= 2000\n",
        "chars[i] is a lowercase English letter, uppercase English letter, digit, or symbol."
      ],
      "metadata": {
        "id": "fckrXWKoWR_6"
      }
    }
  ]
}