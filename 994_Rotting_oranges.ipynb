{
  "nbformat": 4,
  "nbformat_minor": 0,
  "metadata": {
    "colab": {
      "provenance": [],
      "authorship_tag": "ABX9TyO5NsBDkp7m26t3P3QpNSbw",
      "include_colab_link": true
    },
    "kernelspec": {
      "name": "python3",
      "display_name": "Python 3"
    },
    "language_info": {
      "name": "python"
    }
  },
  "cells": [
    {
      "cell_type": "markdown",
      "metadata": {
        "id": "view-in-github",
        "colab_type": "text"
      },
      "source": [
        "<a href=\"https://colab.research.google.com/github/revatikharate/Python_Programming_Leetcode/blob/main/994_Rotting_oranges.ipynb\" target=\"_parent\"><img src=\"https://colab.research.google.com/assets/colab-badge.svg\" alt=\"Open In Colab\"/></a>"
      ]
    },
    {
      "cell_type": "code",
      "execution_count": null,
      "metadata": {
        "id": "4_opCNrz0RYi"
      },
      "outputs": [],
      "source": [
        "class Solution:\n",
        "    def orangesRotting(self, grid: List[List[int]]) -> int:\n",
        "        fresh = 0\n",
        "        rotten = []\n",
        "        minutes = 0\n",
        "        rows, cols = len(grid), len(grid[0])\n",
        "        for row in range(rows):\n",
        "            for col in range(cols):\n",
        "                if grid[row][col] == 1:\n",
        "                    fresh += 1\n",
        "                elif grid[row][col] == 2:\n",
        "                    rotten.append((row, col))\n",
        "        while rotten and fresh > 0:\n",
        "            minutes += 1\n",
        "            curr = []\n",
        "            for r,c in rotten:\n",
        "                check = [(r+1,c),(r-1,c),(r,c+1),(r,c-1)]\n",
        "                for i,j in check:\n",
        "                    if i>=0 and j>=0 and i<rows and j<cols and grid[i][j] == 1:\n",
        "                        grid[i][j] = 2\n",
        "                        fresh -= 1\n",
        "                        curr.append((i,j))\n",
        "                        if fresh == 0:\n",
        "                            return minutes\n",
        "            rotten = curr\n",
        "        if fresh == 0:\n",
        "            return minutes\n",
        "        else:\n",
        "            return -1"
      ]
    },
    {
      "cell_type": "markdown",
      "source": [
        "You are given an m x n grid where each cell can have one of three values:\n",
        "\n",
        "0 representing an empty cell,\n",
        "1 representing a fresh orange, or\n",
        "2 representing a rotten orange.\n",
        "Every minute, any fresh orange that is 4-directionally adjacent to a rotten orange becomes rotten.\n",
        "\n",
        "Return the minimum number of minutes that must elapse until no cell has a fresh orange. If this is impossible, return -1."
      ],
      "metadata": {
        "id": "KAfg69Ln5vz6"
      }
    }
  ]
}