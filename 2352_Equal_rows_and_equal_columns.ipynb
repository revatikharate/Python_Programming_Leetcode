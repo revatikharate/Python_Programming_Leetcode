{
  "nbformat": 4,
  "nbformat_minor": 0,
  "metadata": {
    "colab": {
      "provenance": [],
      "authorship_tag": "ABX9TyMsEOiPzD46H80bAoSK4wLA",
      "include_colab_link": true
    },
    "kernelspec": {
      "name": "python3",
      "display_name": "Python 3"
    },
    "language_info": {
      "name": "python"
    }
  },
  "cells": [
    {
      "cell_type": "markdown",
      "metadata": {
        "id": "view-in-github",
        "colab_type": "text"
      },
      "source": [
        "<a href=\"https://colab.research.google.com/github/revatikharate/Python_Programming_Leetcode/blob/main/2352_Equal_rows_and_equal_columns.ipynb\" target=\"_parent\"><img src=\"https://colab.research.google.com/assets/colab-badge.svg\" alt=\"Open In Colab\"/></a>"
      ]
    },
    {
      "cell_type": "code",
      "execution_count": null,
      "metadata": {
        "id": "IloiwKGelVpx"
      },
      "outputs": [],
      "source": [
        "from collections import defaultdict\n",
        "class Solution:\n",
        "    def equalPairs(self, grid: List[List[int]]) -> int:\n",
        "        n = len(grid)\n",
        "        pairs = 0\n",
        "        rows = defaultdict(int)\n",
        "        for row in grid:\n",
        "            rows[tuple(row)] +=1\n",
        "        for col in range(n):\n",
        "            column = tuple(grid[r][col] for r in range(n))\n",
        "            if column in rows:\n",
        "                pairs +=rows[column]\n",
        "        return pairs\n",
        "\n",
        "\n",
        ""
      ]
    },
    {
      "cell_type": "markdown",
      "source": [
        "Given a 0-indexed n x n integer matrix grid, return the number of pairs (ri, cj) such that row ri and column cj are equal.\n",
        "\n",
        "A row and column pair is considered equal if they contain the same elements in the same order (i.e., an equal array).\n",
        "\n",
        "\n",
        "\n",
        "Example 1:\n",
        "\n",
        "\n",
        "Input: grid = [[3,2,1],[1,7,6],[2,7,7]]\n",
        "Output: 1\n",
        "Explanation: There is 1 equal row and column pair:\n",
        "- (Row 2, Column 1): [2,7,7]\n",
        "Example 2:\n",
        "\n",
        "\n",
        "Input: grid = [[3,1,2,2],[1,4,4,5],[2,4,2,2],[2,4,2,2]]\n",
        "Output: 3\n",
        "Explanation: There are 3 equal row and column pairs:\n",
        "- (Row 0, Column 0): [3,1,2,2]\n",
        "- (Row 2, Column 2): [2,4,2,2]\n",
        "- (Row 3, Column 2): [2,4,2,2]\n",
        ""
      ],
      "metadata": {
        "id": "Luo1b-ClsI7T"
      }
    }
  ]
}