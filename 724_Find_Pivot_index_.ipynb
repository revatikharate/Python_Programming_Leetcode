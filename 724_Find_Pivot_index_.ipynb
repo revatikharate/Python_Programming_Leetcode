{
  "nbformat": 4,
  "nbformat_minor": 0,
  "metadata": {
    "colab": {
      "provenance": [],
      "authorship_tag": "ABX9TyMXSDPAUFlnyeTnXbzhrUVg",
      "include_colab_link": true
    },
    "kernelspec": {
      "name": "python3",
      "display_name": "Python 3"
    },
    "language_info": {
      "name": "python"
    }
  },
  "cells": [
    {
      "cell_type": "markdown",
      "metadata": {
        "id": "view-in-github",
        "colab_type": "text"
      },
      "source": [
        "<a href=\"https://colab.research.google.com/github/revatikharate/Python_Programming_Leetcode/blob/main/724_Find_Pivot_index_.ipynb\" target=\"_parent\"><img src=\"https://colab.research.google.com/assets/colab-badge.svg\" alt=\"Open In Colab\"/></a>"
      ]
    },
    {
      "cell_type": "code",
      "execution_count": null,
      "metadata": {
        "id": "29b6GSZ-JalM"
      },
      "outputs": [],
      "source": [
        "class Solution:\n",
        "    def pivotIndex(self, nums: List[int]) -> int:\n",
        "        l_sum = 0\n",
        "        r_sum = sum(nums)\n",
        "\n",
        "        for i in range(len(nums)):\n",
        "            r_sum -=nums[i]\n",
        "            if l_sum == r_sum:\n",
        "                return i\n",
        "            l_sum +=nums[i]\n",
        "        return -1"
      ]
    },
    {
      "cell_type": "markdown",
      "source": [
        "Given an array of integers nums, calculate the pivot index of this array.\n",
        "\n",
        "The pivot index is the index where the sum of all the numbers strictly to the left of the index is equal to the sum of all the numbers strictly to the index's right.\n",
        "\n",
        "If the index is on the left edge of the array, then the left sum is 0 because there are no elements to the left. This also applies to the right edge of the array.\n",
        "\n",
        "Return the leftmost pivot index. If no such index exists, return -1.\n",
        "\n",
        "\n",
        "\n",
        "Example 1:\n",
        "\n",
        "Input: nums = [1,7,3,6,5,6]\n",
        "Output: 3\n",
        "Explanation:\n",
        "The pivot index is 3.\n",
        "Left sum = nums[0] + nums[1] + nums[2] = 1 + 7 + 3 = 11\n",
        "Right sum = nums[4] + nums[5] = 5 + 6 = 11\n",
        "Example 2:\n",
        "\n",
        "Input: nums = [1,2,3]\n",
        "Output: -1\n",
        "Explanation:\n",
        "There is no index that satisfies the conditions in the problem statement.\n",
        "Example 3:\n",
        "\n",
        "Input: nums = [2,1,-1]\n",
        "Output: 0\n",
        "Explanation:\n",
        "The pivot index is 0.\n",
        "Left sum = 0 (no elements to the left of index 0)\n",
        "Right sum = nums[1] + nums[2] = 1 + -1 = 0\n"
      ],
      "metadata": {
        "id": "2YzfT383Jfsx"
      }
    }
  ]
}