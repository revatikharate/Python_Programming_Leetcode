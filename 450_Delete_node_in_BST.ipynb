{
  "nbformat": 4,
  "nbformat_minor": 0,
  "metadata": {
    "colab": {
      "provenance": [],
      "authorship_tag": "ABX9TyNlwtH6yadUxX67ApblxXsE",
      "include_colab_link": true
    },
    "kernelspec": {
      "name": "python3",
      "display_name": "Python 3"
    },
    "language_info": {
      "name": "python"
    }
  },
  "cells": [
    {
      "cell_type": "markdown",
      "metadata": {
        "id": "view-in-github",
        "colab_type": "text"
      },
      "source": [
        "<a href=\"https://colab.research.google.com/github/revatikharate/Python_Programming_Leetcode/blob/main/450_Delete_node_in_BST.ipynb\" target=\"_parent\"><img src=\"https://colab.research.google.com/assets/colab-badge.svg\" alt=\"Open In Colab\"/></a>"
      ]
    },
    {
      "cell_type": "code",
      "execution_count": null,
      "metadata": {
        "id": "obWXIBxwvXXG"
      },
      "outputs": [],
      "source": [
        "class Solution:\n",
        "    def helper(self, root):\n",
        "        if not root.right:\n",
        "            return root.left\n",
        "        if not root.left:\n",
        "            return root.right\n",
        "        right = root.right\n",
        "        left = root.left\n",
        "        # find largest on left\n",
        "        while left.right:\n",
        "            left = left.right\n",
        "        left.right = right\n",
        "        return root.left\n",
        "\n",
        "    def deleteNode(self, root: Optional[TreeNode], key: int) -> Optional[TreeNode]:\n",
        "        if not root:\n",
        "            return None\n",
        "        if root.val == key:\n",
        "            return self.helper(root)\n",
        "        curr = root\n",
        "        while root:\n",
        "            if key < root.val:\n",
        "                if root.left and root.left.val == key:\n",
        "                    root.left = self.helper(root.left)\n",
        "                    break\n",
        "                root = root.left\n",
        "            else:\n",
        "                if root.right and root.right.val == key:\n",
        "                    root.right = self.helper(root.right)\n",
        "                    break\n",
        "                root = root.right\n",
        "        return curr"
      ]
    },
    {
      "cell_type": "markdown",
      "source": [
        "Given a root node reference of a BST and a key, delete the node with the given key in the BST. Return the root node reference (possibly updated) of the BST.\n",
        "\n",
        "Basically, the deletion can be divided into two stages:\n",
        "\n",
        "Search for a node to remove.\n",
        "If the node is found, delete the node.\n",
        "\n",
        "\n",
        "Example 1:\n",
        "\n",
        "\n",
        "Input: root = [5,3,6,2,4,null,7], key = 3\n",
        "Output: [5,4,6,2,null,null,7]\n",
        "Explanation: Given key to delete is 3. So we find the node with value 3 and delete it.\n",
        "One valid answer is [5,4,6,2,null,null,7], shown in the above BST.\n",
        "Please notice that another valid answer is [5,2,6,null,4,null,7] and it's also accepted.\n",
        "\n",
        "Example 2:\n",
        "\n",
        "Input: root = [5,3,6,2,4,null,7], key = 0\n",
        "Output: [5,3,6,2,4,null,7]\n",
        "Explanation: The tree does not contain a node with value = 0.\n",
        "Example 3:\n",
        "\n",
        "Input: root = [], key = 0\n",
        "Output: []"
      ],
      "metadata": {
        "id": "Vh02h89mvaFI"
      }
    }
  ]
}